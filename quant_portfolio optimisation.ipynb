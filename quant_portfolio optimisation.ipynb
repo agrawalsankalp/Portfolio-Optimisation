{
  "nbformat": 4,
  "nbformat_minor": 0,
  "metadata": {
    "colab": {
      "name": "Sankalp_Quant_02.ipynb",
      "provenance": [],
      "collapsed_sections": [
        "4yFzGqiQsfi2",
        "-poGo4iSssyx"
      ]
    },
    "kernelspec": {
      "name": "python3",
      "display_name": "Python 3"
    }
  },
  "cells": [
    {
      "cell_type": "code",
      "metadata": {
        "id": "nWlYyNdozGCa",
        "colab": {
          "base_uri": "https://localhost:8080/",
          "height": 51
        },
        "outputId": "378f88e4-dbe1-4acf-eaac-d47022ee0ed6"
      },
      "source": [
        "import pandas as pd\n",
        "import numpy as np\n",
        "import matplotlib.pyplot as plt\n",
        "import seaborn as sns\n",
        "import scipy.stats as stats"
      ],
      "execution_count": null,
      "outputs": [
        {
          "output_type": "stream",
          "text": [
            "/usr/local/lib/python3.6/dist-packages/statsmodels/tools/_testing.py:19: FutureWarning: pandas.util.testing is deprecated. Use the functions in the public API at pandas.testing instead.\n",
            "  import pandas.util.testing as tm\n"
          ],
          "name": "stderr"
        }
      ]
    },
    {
      "cell_type": "markdown",
      "metadata": {
        "id": "ZjPaTa3jcBAv"
      },
      "source": [
        "# Q1. How did you choose stocks ?\n",
        "* I choose stocks from different sectors so that our portfolio is diversified and decreament in one sector can be overcome by the increament in the other sector.\n",
        "* so that risk factor is well distributed. \n",
        "\n",
        "therfore i chose the following stocks :\n",
        "1. TCS ltd.\n",
        "2. HDFC Bank ltd.\n",
        "3. Bharti Airtel\n",
        "4. ITC ltd.\n",
        "5. Dr. Reddy Pharma"
      ]
    },
    {
      "cell_type": "markdown",
      "metadata": {
        "id": "08YZ-EHnfWd5"
      },
      "source": [
        "# Q2. What is the impact of increasing the number of stocks in the portfolio?\n",
        "\n",
        "Increasing number os stocks in a portfolio will lead to decrease in non-market risk involved in it, but it will required time and regular presence and monitoring on the market.  "
      ]
    },
    {
      "cell_type": "code",
      "metadata": {
        "id": "kcudAS1WzQD-",
        "colab": {
          "resources": {
            "http://localhost:8080/nbextensions/google.colab/files.js": {
              "data": "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",
              "ok": true,
              "headers": [
                [
                  "content-type",
                  "application/javascript"
                ]
              ],
              "status": 200,
              "status_text": ""
            }
          },
          "base_uri": "https://localhost:8080/",
          "height": 73
        },
        "outputId": "2eab2d06-4c3a-4b49-edea-96e32811aa61"
      },
      "source": [
        "from google.colab import files\n",
        "uploaded = files.upload()"
      ],
      "execution_count": null,
      "outputs": [
        {
          "output_type": "display_data",
          "data": {
            "text/html": [
              "\n",
              "     <input type=\"file\" id=\"files-0c343c90-6b26-40ed-a212-531930fd498d\" name=\"files[]\" multiple disabled\n",
              "        style=\"border:none\" />\n",
              "     <output id=\"result-0c343c90-6b26-40ed-a212-531930fd498d\">\n",
              "      Upload widget is only available when the cell has been executed in the\n",
              "      current browser session. Please rerun this cell to enable.\n",
              "      </output>\n",
              "      <script src=\"/nbextensions/google.colab/files.js\"></script> "
            ],
            "text/plain": [
              "<IPython.core.display.HTML object>"
            ]
          },
          "metadata": {
            "tags": []
          }
        },
        {
          "output_type": "stream",
          "text": [
            "Saving tcs.csv to tcs (1).csv\n"
          ],
          "name": "stdout"
        }
      ]
    },
    {
      "cell_type": "code",
      "metadata": {
        "id": "5WlHHDKKA0cl",
        "colab": {
          "base_uri": "https://localhost:8080/",
          "height": 415
        },
        "outputId": "10ffb477-1532-4cfe-9d19-2ff3d9a346b3"
      },
      "source": [
        "import io\n",
        "tcs = pd.read_csv(io.BytesIO(uploaded['tcs.csv']))\n",
        "tcs"
      ],
      "execution_count": null,
      "outputs": [
        {
          "output_type": "execute_result",
          "data": {
            "text/html": [
              "<div>\n",
              "<style scoped>\n",
              "    .dataframe tbody tr th:only-of-type {\n",
              "        vertical-align: middle;\n",
              "    }\n",
              "\n",
              "    .dataframe tbody tr th {\n",
              "        vertical-align: top;\n",
              "    }\n",
              "\n",
              "    .dataframe thead th {\n",
              "        text-align: right;\n",
              "    }\n",
              "</style>\n",
              "<table border=\"1\" class=\"dataframe\">\n",
              "  <thead>\n",
              "    <tr style=\"text-align: right;\">\n",
              "      <th></th>\n",
              "      <th>Date</th>\n",
              "      <th>series</th>\n",
              "      <th>OPEN</th>\n",
              "      <th>HIGH</th>\n",
              "      <th>LOW</th>\n",
              "      <th>PREV. CLOSE</th>\n",
              "      <th>ltp</th>\n",
              "      <th>close</th>\n",
              "      <th>vwap</th>\n",
              "      <th>52W H</th>\n",
              "      <th>52W L</th>\n",
              "      <th>VOLUME</th>\n",
              "      <th>VALUE</th>\n",
              "      <th>No of trades</th>\n",
              "    </tr>\n",
              "  </thead>\n",
              "  <tbody>\n",
              "    <tr>\n",
              "      <th>0</th>\n",
              "      <td>31-Mar-2017</td>\n",
              "      <td>EQ</td>\n",
              "      <td>2,438.40</td>\n",
              "      <td>2,440.85</td>\n",
              "      <td>2,415.00</td>\n",
              "      <td>2,441.00</td>\n",
              "      <td>2,423.10</td>\n",
              "      <td>2,431.80</td>\n",
              "      <td>2,426.64</td>\n",
              "      <td>2,744.80</td>\n",
              "      <td>2,051.90</td>\n",
              "      <td>933522</td>\n",
              "      <td>2,265,321,422.25</td>\n",
              "      <td>43625</td>\n",
              "    </tr>\n",
              "    <tr>\n",
              "      <th>1</th>\n",
              "      <td>30-Mar-2017</td>\n",
              "      <td>EQ</td>\n",
              "      <td>2,444.90</td>\n",
              "      <td>2,465.00</td>\n",
              "      <td>2,435.00</td>\n",
              "      <td>2,444.60</td>\n",
              "      <td>2,436.70</td>\n",
              "      <td>2,441.00</td>\n",
              "      <td>2,448.49</td>\n",
              "      <td>2,744.80</td>\n",
              "      <td>2,051.90</td>\n",
              "      <td>1493043</td>\n",
              "      <td>3,655,700,075.95</td>\n",
              "      <td>63889</td>\n",
              "    </tr>\n",
              "    <tr>\n",
              "      <th>2</th>\n",
              "      <td>29-Mar-2017</td>\n",
              "      <td>EQ</td>\n",
              "      <td>2,436.00</td>\n",
              "      <td>2,450.80</td>\n",
              "      <td>2,425.60</td>\n",
              "      <td>2,429.95</td>\n",
              "      <td>2,443.10</td>\n",
              "      <td>2,444.60</td>\n",
              "      <td>2,439.98</td>\n",
              "      <td>2,744.80</td>\n",
              "      <td>2,051.90</td>\n",
              "      <td>858882</td>\n",
              "      <td>2,095,657,290.00</td>\n",
              "      <td>58433</td>\n",
              "    </tr>\n",
              "    <tr>\n",
              "      <th>3</th>\n",
              "      <td>28-Mar-2017</td>\n",
              "      <td>EQ</td>\n",
              "      <td>2,410.00</td>\n",
              "      <td>2,443.40</td>\n",
              "      <td>2,410.00</td>\n",
              "      <td>2,412.05</td>\n",
              "      <td>2,430.70</td>\n",
              "      <td>2,429.95</td>\n",
              "      <td>2,431.89</td>\n",
              "      <td>2,744.80</td>\n",
              "      <td>2,051.90</td>\n",
              "      <td>576579</td>\n",
              "      <td>1,402,176,401.25</td>\n",
              "      <td>35869</td>\n",
              "    </tr>\n",
              "    <tr>\n",
              "      <th>4</th>\n",
              "      <td>27-Mar-2017</td>\n",
              "      <td>EQ</td>\n",
              "      <td>2,426.95</td>\n",
              "      <td>2,440.00</td>\n",
              "      <td>2,406.00</td>\n",
              "      <td>2,427.20</td>\n",
              "      <td>2,411.00</td>\n",
              "      <td>2,412.05</td>\n",
              "      <td>2,418.60</td>\n",
              "      <td>2,744.80</td>\n",
              "      <td>2,051.90</td>\n",
              "      <td>1090635</td>\n",
              "      <td>2,637,809,010.95</td>\n",
              "      <td>52262</td>\n",
              "    </tr>\n",
              "    <tr>\n",
              "      <th>...</th>\n",
              "      <td>...</td>\n",
              "      <td>...</td>\n",
              "      <td>...</td>\n",
              "      <td>...</td>\n",
              "      <td>...</td>\n",
              "      <td>...</td>\n",
              "      <td>...</td>\n",
              "      <td>...</td>\n",
              "      <td>...</td>\n",
              "      <td>...</td>\n",
              "      <td>...</td>\n",
              "      <td>...</td>\n",
              "      <td>...</td>\n",
              "      <td>...</td>\n",
              "    </tr>\n",
              "    <tr>\n",
              "      <th>490</th>\n",
              "      <td>09-Apr-2015</td>\n",
              "      <td>EQ</td>\n",
              "      <td>2,659.00</td>\n",
              "      <td>2,687.45</td>\n",
              "      <td>2,635.15</td>\n",
              "      <td>2,641.40</td>\n",
              "      <td>2,662.60</td>\n",
              "      <td>2,664.55</td>\n",
              "      <td>2,658.35</td>\n",
              "      <td>2,839.70</td>\n",
              "      <td>1,999.50</td>\n",
              "      <td>1272225</td>\n",
              "      <td>3,382,017,714.75</td>\n",
              "      <td>62583</td>\n",
              "    </tr>\n",
              "    <tr>\n",
              "      <th>491</th>\n",
              "      <td>08-Apr-2015</td>\n",
              "      <td>EQ</td>\n",
              "      <td>2,594.00</td>\n",
              "      <td>2,656.50</td>\n",
              "      <td>2,590.85</td>\n",
              "      <td>2,585.00</td>\n",
              "      <td>2,646.00</td>\n",
              "      <td>2,641.40</td>\n",
              "      <td>2,632.00</td>\n",
              "      <td>2,839.70</td>\n",
              "      <td>1,999.50</td>\n",
              "      <td>826067</td>\n",
              "      <td>2,174,208,279.40</td>\n",
              "      <td>61358</td>\n",
              "    </tr>\n",
              "    <tr>\n",
              "      <th>492</th>\n",
              "      <td>07-Apr-2015</td>\n",
              "      <td>EQ</td>\n",
              "      <td>2,562.45</td>\n",
              "      <td>2,599.00</td>\n",
              "      <td>2,544.00</td>\n",
              "      <td>2,547.30</td>\n",
              "      <td>2,588.95</td>\n",
              "      <td>2,585.00</td>\n",
              "      <td>2,571.50</td>\n",
              "      <td>2,839.70</td>\n",
              "      <td>1,999.50</td>\n",
              "      <td>943461</td>\n",
              "      <td>2,426,111,369.05</td>\n",
              "      <td>77106</td>\n",
              "    </tr>\n",
              "    <tr>\n",
              "      <th>493</th>\n",
              "      <td>06-Apr-2015</td>\n",
              "      <td>EQ</td>\n",
              "      <td>2,558.00</td>\n",
              "      <td>2,562.90</td>\n",
              "      <td>2,500.10</td>\n",
              "      <td>2,542.65</td>\n",
              "      <td>2,548.30</td>\n",
              "      <td>2,547.30</td>\n",
              "      <td>2,531.53</td>\n",
              "      <td>2,839.70</td>\n",
              "      <td>1,999.50</td>\n",
              "      <td>784271</td>\n",
              "      <td>1,985,404,796.80</td>\n",
              "      <td>45408</td>\n",
              "    </tr>\n",
              "    <tr>\n",
              "      <th>494</th>\n",
              "      <td>01-Apr-2015</td>\n",
              "      <td>EQ</td>\n",
              "      <td>2,558.00</td>\n",
              "      <td>2,563.60</td>\n",
              "      <td>2,522.25</td>\n",
              "      <td>2,553.95</td>\n",
              "      <td>2,544.05</td>\n",
              "      <td>2,542.65</td>\n",
              "      <td>2,538.81</td>\n",
              "      <td>2,839.70</td>\n",
              "      <td>1,999.50</td>\n",
              "      <td>1037879</td>\n",
              "      <td>2,634,981,317.45</td>\n",
              "      <td>54078</td>\n",
              "    </tr>\n",
              "  </tbody>\n",
              "</table>\n",
              "<p>495 rows × 14 columns</p>\n",
              "</div>"
            ],
            "text/plain": [
              "           Date  series      OPEN   ...  VOLUME             VALUE  No of trades \n",
              "0    31-Mar-2017      EQ  2,438.40  ...   933522  2,265,321,422.25         43625\n",
              "1    30-Mar-2017      EQ  2,444.90  ...  1493043  3,655,700,075.95         63889\n",
              "2    29-Mar-2017      EQ  2,436.00  ...   858882  2,095,657,290.00         58433\n",
              "3    28-Mar-2017      EQ  2,410.00  ...   576579  1,402,176,401.25         35869\n",
              "4    27-Mar-2017      EQ  2,426.95  ...  1090635  2,637,809,010.95         52262\n",
              "..           ...     ...       ...  ...      ...               ...           ...\n",
              "490  09-Apr-2015      EQ  2,659.00  ...  1272225  3,382,017,714.75         62583\n",
              "491  08-Apr-2015      EQ  2,594.00  ...   826067  2,174,208,279.40         61358\n",
              "492  07-Apr-2015      EQ  2,562.45  ...   943461  2,426,111,369.05         77106\n",
              "493  06-Apr-2015      EQ  2,558.00  ...   784271  1,985,404,796.80         45408\n",
              "494  01-Apr-2015      EQ  2,558.00  ...  1037879  2,634,981,317.45         54078\n",
              "\n",
              "[495 rows x 14 columns]"
            ]
          },
          "metadata": {
            "tags": []
          },
          "execution_count": 57
        }
      ]
    },
    {
      "cell_type": "code",
      "metadata": {
        "id": "TRTgorTvBRkb",
        "colab": {
          "base_uri": "https://localhost:8080/",
          "height": 415
        },
        "outputId": "02226e1c-46c7-4f5f-e3a3-10699de1f1ed"
      },
      "source": [
        "tcs = tcs.iloc[::-1]\n",
        "tcs"
      ],
      "execution_count": null,
      "outputs": [
        {
          "output_type": "execute_result",
          "data": {
            "text/html": [
              "<div>\n",
              "<style scoped>\n",
              "    .dataframe tbody tr th:only-of-type {\n",
              "        vertical-align: middle;\n",
              "    }\n",
              "\n",
              "    .dataframe tbody tr th {\n",
              "        vertical-align: top;\n",
              "    }\n",
              "\n",
              "    .dataframe thead th {\n",
              "        text-align: right;\n",
              "    }\n",
              "</style>\n",
              "<table border=\"1\" class=\"dataframe\">\n",
              "  <thead>\n",
              "    <tr style=\"text-align: right;\">\n",
              "      <th></th>\n",
              "      <th>Date</th>\n",
              "      <th>series</th>\n",
              "      <th>OPEN</th>\n",
              "      <th>HIGH</th>\n",
              "      <th>LOW</th>\n",
              "      <th>PREV. CLOSE</th>\n",
              "      <th>ltp</th>\n",
              "      <th>close</th>\n",
              "      <th>vwap</th>\n",
              "      <th>52W H</th>\n",
              "      <th>52W L</th>\n",
              "      <th>VOLUME</th>\n",
              "      <th>VALUE</th>\n",
              "      <th>No of trades</th>\n",
              "    </tr>\n",
              "  </thead>\n",
              "  <tbody>\n",
              "    <tr>\n",
              "      <th>494</th>\n",
              "      <td>01-Apr-2015</td>\n",
              "      <td>EQ</td>\n",
              "      <td>2,558.00</td>\n",
              "      <td>2,563.60</td>\n",
              "      <td>2,522.25</td>\n",
              "      <td>2,553.95</td>\n",
              "      <td>2,544.05</td>\n",
              "      <td>2,542.65</td>\n",
              "      <td>2,538.81</td>\n",
              "      <td>2,839.70</td>\n",
              "      <td>1,999.50</td>\n",
              "      <td>1037879</td>\n",
              "      <td>2,634,981,317.45</td>\n",
              "      <td>54078</td>\n",
              "    </tr>\n",
              "    <tr>\n",
              "      <th>493</th>\n",
              "      <td>06-Apr-2015</td>\n",
              "      <td>EQ</td>\n",
              "      <td>2,558.00</td>\n",
              "      <td>2,562.90</td>\n",
              "      <td>2,500.10</td>\n",
              "      <td>2,542.65</td>\n",
              "      <td>2,548.30</td>\n",
              "      <td>2,547.30</td>\n",
              "      <td>2,531.53</td>\n",
              "      <td>2,839.70</td>\n",
              "      <td>1,999.50</td>\n",
              "      <td>784271</td>\n",
              "      <td>1,985,404,796.80</td>\n",
              "      <td>45408</td>\n",
              "    </tr>\n",
              "    <tr>\n",
              "      <th>492</th>\n",
              "      <td>07-Apr-2015</td>\n",
              "      <td>EQ</td>\n",
              "      <td>2,562.45</td>\n",
              "      <td>2,599.00</td>\n",
              "      <td>2,544.00</td>\n",
              "      <td>2,547.30</td>\n",
              "      <td>2,588.95</td>\n",
              "      <td>2,585.00</td>\n",
              "      <td>2,571.50</td>\n",
              "      <td>2,839.70</td>\n",
              "      <td>1,999.50</td>\n",
              "      <td>943461</td>\n",
              "      <td>2,426,111,369.05</td>\n",
              "      <td>77106</td>\n",
              "    </tr>\n",
              "    <tr>\n",
              "      <th>491</th>\n",
              "      <td>08-Apr-2015</td>\n",
              "      <td>EQ</td>\n",
              "      <td>2,594.00</td>\n",
              "      <td>2,656.50</td>\n",
              "      <td>2,590.85</td>\n",
              "      <td>2,585.00</td>\n",
              "      <td>2,646.00</td>\n",
              "      <td>2,641.40</td>\n",
              "      <td>2,632.00</td>\n",
              "      <td>2,839.70</td>\n",
              "      <td>1,999.50</td>\n",
              "      <td>826067</td>\n",
              "      <td>2,174,208,279.40</td>\n",
              "      <td>61358</td>\n",
              "    </tr>\n",
              "    <tr>\n",
              "      <th>490</th>\n",
              "      <td>09-Apr-2015</td>\n",
              "      <td>EQ</td>\n",
              "      <td>2,659.00</td>\n",
              "      <td>2,687.45</td>\n",
              "      <td>2,635.15</td>\n",
              "      <td>2,641.40</td>\n",
              "      <td>2,662.60</td>\n",
              "      <td>2,664.55</td>\n",
              "      <td>2,658.35</td>\n",
              "      <td>2,839.70</td>\n",
              "      <td>1,999.50</td>\n",
              "      <td>1272225</td>\n",
              "      <td>3,382,017,714.75</td>\n",
              "      <td>62583</td>\n",
              "    </tr>\n",
              "    <tr>\n",
              "      <th>...</th>\n",
              "      <td>...</td>\n",
              "      <td>...</td>\n",
              "      <td>...</td>\n",
              "      <td>...</td>\n",
              "      <td>...</td>\n",
              "      <td>...</td>\n",
              "      <td>...</td>\n",
              "      <td>...</td>\n",
              "      <td>...</td>\n",
              "      <td>...</td>\n",
              "      <td>...</td>\n",
              "      <td>...</td>\n",
              "      <td>...</td>\n",
              "      <td>...</td>\n",
              "    </tr>\n",
              "    <tr>\n",
              "      <th>4</th>\n",
              "      <td>27-Mar-2017</td>\n",
              "      <td>EQ</td>\n",
              "      <td>2,426.95</td>\n",
              "      <td>2,440.00</td>\n",
              "      <td>2,406.00</td>\n",
              "      <td>2,427.20</td>\n",
              "      <td>2,411.00</td>\n",
              "      <td>2,412.05</td>\n",
              "      <td>2,418.60</td>\n",
              "      <td>2,744.80</td>\n",
              "      <td>2,051.90</td>\n",
              "      <td>1090635</td>\n",
              "      <td>2,637,809,010.95</td>\n",
              "      <td>52262</td>\n",
              "    </tr>\n",
              "    <tr>\n",
              "      <th>3</th>\n",
              "      <td>28-Mar-2017</td>\n",
              "      <td>EQ</td>\n",
              "      <td>2,410.00</td>\n",
              "      <td>2,443.40</td>\n",
              "      <td>2,410.00</td>\n",
              "      <td>2,412.05</td>\n",
              "      <td>2,430.70</td>\n",
              "      <td>2,429.95</td>\n",
              "      <td>2,431.89</td>\n",
              "      <td>2,744.80</td>\n",
              "      <td>2,051.90</td>\n",
              "      <td>576579</td>\n",
              "      <td>1,402,176,401.25</td>\n",
              "      <td>35869</td>\n",
              "    </tr>\n",
              "    <tr>\n",
              "      <th>2</th>\n",
              "      <td>29-Mar-2017</td>\n",
              "      <td>EQ</td>\n",
              "      <td>2,436.00</td>\n",
              "      <td>2,450.80</td>\n",
              "      <td>2,425.60</td>\n",
              "      <td>2,429.95</td>\n",
              "      <td>2,443.10</td>\n",
              "      <td>2,444.60</td>\n",
              "      <td>2,439.98</td>\n",
              "      <td>2,744.80</td>\n",
              "      <td>2,051.90</td>\n",
              "      <td>858882</td>\n",
              "      <td>2,095,657,290.00</td>\n",
              "      <td>58433</td>\n",
              "    </tr>\n",
              "    <tr>\n",
              "      <th>1</th>\n",
              "      <td>30-Mar-2017</td>\n",
              "      <td>EQ</td>\n",
              "      <td>2,444.90</td>\n",
              "      <td>2,465.00</td>\n",
              "      <td>2,435.00</td>\n",
              "      <td>2,444.60</td>\n",
              "      <td>2,436.70</td>\n",
              "      <td>2,441.00</td>\n",
              "      <td>2,448.49</td>\n",
              "      <td>2,744.80</td>\n",
              "      <td>2,051.90</td>\n",
              "      <td>1493043</td>\n",
              "      <td>3,655,700,075.95</td>\n",
              "      <td>63889</td>\n",
              "    </tr>\n",
              "    <tr>\n",
              "      <th>0</th>\n",
              "      <td>31-Mar-2017</td>\n",
              "      <td>EQ</td>\n",
              "      <td>2,438.40</td>\n",
              "      <td>2,440.85</td>\n",
              "      <td>2,415.00</td>\n",
              "      <td>2,441.00</td>\n",
              "      <td>2,423.10</td>\n",
              "      <td>2,431.80</td>\n",
              "      <td>2,426.64</td>\n",
              "      <td>2,744.80</td>\n",
              "      <td>2,051.90</td>\n",
              "      <td>933522</td>\n",
              "      <td>2,265,321,422.25</td>\n",
              "      <td>43625</td>\n",
              "    </tr>\n",
              "  </tbody>\n",
              "</table>\n",
              "<p>495 rows × 14 columns</p>\n",
              "</div>"
            ],
            "text/plain": [
              "           Date  series      OPEN   ...  VOLUME             VALUE  No of trades \n",
              "494  01-Apr-2015      EQ  2,558.00  ...  1037879  2,634,981,317.45         54078\n",
              "493  06-Apr-2015      EQ  2,558.00  ...   784271  1,985,404,796.80         45408\n",
              "492  07-Apr-2015      EQ  2,562.45  ...   943461  2,426,111,369.05         77106\n",
              "491  08-Apr-2015      EQ  2,594.00  ...   826067  2,174,208,279.40         61358\n",
              "490  09-Apr-2015      EQ  2,659.00  ...  1272225  3,382,017,714.75         62583\n",
              "..           ...     ...       ...  ...      ...               ...           ...\n",
              "4    27-Mar-2017      EQ  2,426.95  ...  1090635  2,637,809,010.95         52262\n",
              "3    28-Mar-2017      EQ  2,410.00  ...   576579  1,402,176,401.25         35869\n",
              "2    29-Mar-2017      EQ  2,436.00  ...   858882  2,095,657,290.00         58433\n",
              "1    30-Mar-2017      EQ  2,444.90  ...  1493043  3,655,700,075.95         63889\n",
              "0    31-Mar-2017      EQ  2,438.40  ...   933522  2,265,321,422.25         43625\n",
              "\n",
              "[495 rows x 14 columns]"
            ]
          },
          "metadata": {
            "tags": []
          },
          "execution_count": 58
        }
      ]
    },
    {
      "cell_type": "code",
      "metadata": {
        "id": "29B_UezrDrFJ",
        "colab": {
          "base_uri": "https://localhost:8080/",
          "height": 446
        },
        "outputId": "5649195d-3890-4948-f117-30ac8060f0d9"
      },
      "source": [
        "df1 = pd.concat([tcs['Date '],tcs['ltp ']],axis=1)\n",
        "df1 = df1.set_axis(df1['Date '])\n",
        "df1"
      ],
      "execution_count": null,
      "outputs": [
        {
          "output_type": "execute_result",
          "data": {
            "text/html": [
              "<div>\n",
              "<style scoped>\n",
              "    .dataframe tbody tr th:only-of-type {\n",
              "        vertical-align: middle;\n",
              "    }\n",
              "\n",
              "    .dataframe tbody tr th {\n",
              "        vertical-align: top;\n",
              "    }\n",
              "\n",
              "    .dataframe thead th {\n",
              "        text-align: right;\n",
              "    }\n",
              "</style>\n",
              "<table border=\"1\" class=\"dataframe\">\n",
              "  <thead>\n",
              "    <tr style=\"text-align: right;\">\n",
              "      <th></th>\n",
              "      <th>Date</th>\n",
              "      <th>ltp</th>\n",
              "    </tr>\n",
              "    <tr>\n",
              "      <th>Date</th>\n",
              "      <th></th>\n",
              "      <th></th>\n",
              "    </tr>\n",
              "  </thead>\n",
              "  <tbody>\n",
              "    <tr>\n",
              "      <th>01-Apr-2015</th>\n",
              "      <td>01-Apr-2015</td>\n",
              "      <td>2,544.05</td>\n",
              "    </tr>\n",
              "    <tr>\n",
              "      <th>06-Apr-2015</th>\n",
              "      <td>06-Apr-2015</td>\n",
              "      <td>2,548.30</td>\n",
              "    </tr>\n",
              "    <tr>\n",
              "      <th>07-Apr-2015</th>\n",
              "      <td>07-Apr-2015</td>\n",
              "      <td>2,588.95</td>\n",
              "    </tr>\n",
              "    <tr>\n",
              "      <th>08-Apr-2015</th>\n",
              "      <td>08-Apr-2015</td>\n",
              "      <td>2,646.00</td>\n",
              "    </tr>\n",
              "    <tr>\n",
              "      <th>09-Apr-2015</th>\n",
              "      <td>09-Apr-2015</td>\n",
              "      <td>2,662.60</td>\n",
              "    </tr>\n",
              "    <tr>\n",
              "      <th>...</th>\n",
              "      <td>...</td>\n",
              "      <td>...</td>\n",
              "    </tr>\n",
              "    <tr>\n",
              "      <th>27-Mar-2017</th>\n",
              "      <td>27-Mar-2017</td>\n",
              "      <td>2,411.00</td>\n",
              "    </tr>\n",
              "    <tr>\n",
              "      <th>28-Mar-2017</th>\n",
              "      <td>28-Mar-2017</td>\n",
              "      <td>2,430.70</td>\n",
              "    </tr>\n",
              "    <tr>\n",
              "      <th>29-Mar-2017</th>\n",
              "      <td>29-Mar-2017</td>\n",
              "      <td>2,443.10</td>\n",
              "    </tr>\n",
              "    <tr>\n",
              "      <th>30-Mar-2017</th>\n",
              "      <td>30-Mar-2017</td>\n",
              "      <td>2,436.70</td>\n",
              "    </tr>\n",
              "    <tr>\n",
              "      <th>31-Mar-2017</th>\n",
              "      <td>31-Mar-2017</td>\n",
              "      <td>2,423.10</td>\n",
              "    </tr>\n",
              "  </tbody>\n",
              "</table>\n",
              "<p>495 rows × 2 columns</p>\n",
              "</div>"
            ],
            "text/plain": [
              "                   Date       ltp \n",
              "Date                              \n",
              "01-Apr-2015  01-Apr-2015  2,544.05\n",
              "06-Apr-2015  06-Apr-2015  2,548.30\n",
              "07-Apr-2015  07-Apr-2015  2,588.95\n",
              "08-Apr-2015  08-Apr-2015  2,646.00\n",
              "09-Apr-2015  09-Apr-2015  2,662.60\n",
              "...                  ...       ...\n",
              "27-Mar-2017  27-Mar-2017  2,411.00\n",
              "28-Mar-2017  28-Mar-2017  2,430.70\n",
              "29-Mar-2017  29-Mar-2017  2,443.10\n",
              "30-Mar-2017  30-Mar-2017  2,436.70\n",
              "31-Mar-2017  31-Mar-2017  2,423.10\n",
              "\n",
              "[495 rows x 2 columns]"
            ]
          },
          "metadata": {
            "tags": []
          },
          "execution_count": 59
        }
      ]
    },
    {
      "cell_type": "code",
      "metadata": {
        "id": "vp8UoUNXEfde",
        "colab": {
          "base_uri": "https://localhost:8080/",
          "height": 446
        },
        "outputId": "961d2c5e-b44b-4204-b542-66f81b8a9dc5"
      },
      "source": [
        "df1['ltptcs '] = df1['ltp '].str.replace(',', '')\n",
        "df1"
      ],
      "execution_count": null,
      "outputs": [
        {
          "output_type": "execute_result",
          "data": {
            "text/html": [
              "<div>\n",
              "<style scoped>\n",
              "    .dataframe tbody tr th:only-of-type {\n",
              "        vertical-align: middle;\n",
              "    }\n",
              "\n",
              "    .dataframe tbody tr th {\n",
              "        vertical-align: top;\n",
              "    }\n",
              "\n",
              "    .dataframe thead th {\n",
              "        text-align: right;\n",
              "    }\n",
              "</style>\n",
              "<table border=\"1\" class=\"dataframe\">\n",
              "  <thead>\n",
              "    <tr style=\"text-align: right;\">\n",
              "      <th></th>\n",
              "      <th>Date</th>\n",
              "      <th>ltp</th>\n",
              "      <th>ltptcs</th>\n",
              "    </tr>\n",
              "    <tr>\n",
              "      <th>Date</th>\n",
              "      <th></th>\n",
              "      <th></th>\n",
              "      <th></th>\n",
              "    </tr>\n",
              "  </thead>\n",
              "  <tbody>\n",
              "    <tr>\n",
              "      <th>01-Apr-2015</th>\n",
              "      <td>01-Apr-2015</td>\n",
              "      <td>2,544.05</td>\n",
              "      <td>2544.05</td>\n",
              "    </tr>\n",
              "    <tr>\n",
              "      <th>06-Apr-2015</th>\n",
              "      <td>06-Apr-2015</td>\n",
              "      <td>2,548.30</td>\n",
              "      <td>2548.30</td>\n",
              "    </tr>\n",
              "    <tr>\n",
              "      <th>07-Apr-2015</th>\n",
              "      <td>07-Apr-2015</td>\n",
              "      <td>2,588.95</td>\n",
              "      <td>2588.95</td>\n",
              "    </tr>\n",
              "    <tr>\n",
              "      <th>08-Apr-2015</th>\n",
              "      <td>08-Apr-2015</td>\n",
              "      <td>2,646.00</td>\n",
              "      <td>2646.00</td>\n",
              "    </tr>\n",
              "    <tr>\n",
              "      <th>09-Apr-2015</th>\n",
              "      <td>09-Apr-2015</td>\n",
              "      <td>2,662.60</td>\n",
              "      <td>2662.60</td>\n",
              "    </tr>\n",
              "    <tr>\n",
              "      <th>...</th>\n",
              "      <td>...</td>\n",
              "      <td>...</td>\n",
              "      <td>...</td>\n",
              "    </tr>\n",
              "    <tr>\n",
              "      <th>27-Mar-2017</th>\n",
              "      <td>27-Mar-2017</td>\n",
              "      <td>2,411.00</td>\n",
              "      <td>2411.00</td>\n",
              "    </tr>\n",
              "    <tr>\n",
              "      <th>28-Mar-2017</th>\n",
              "      <td>28-Mar-2017</td>\n",
              "      <td>2,430.70</td>\n",
              "      <td>2430.70</td>\n",
              "    </tr>\n",
              "    <tr>\n",
              "      <th>29-Mar-2017</th>\n",
              "      <td>29-Mar-2017</td>\n",
              "      <td>2,443.10</td>\n",
              "      <td>2443.10</td>\n",
              "    </tr>\n",
              "    <tr>\n",
              "      <th>30-Mar-2017</th>\n",
              "      <td>30-Mar-2017</td>\n",
              "      <td>2,436.70</td>\n",
              "      <td>2436.70</td>\n",
              "    </tr>\n",
              "    <tr>\n",
              "      <th>31-Mar-2017</th>\n",
              "      <td>31-Mar-2017</td>\n",
              "      <td>2,423.10</td>\n",
              "      <td>2423.10</td>\n",
              "    </tr>\n",
              "  </tbody>\n",
              "</table>\n",
              "<p>495 rows × 3 columns</p>\n",
              "</div>"
            ],
            "text/plain": [
              "                   Date       ltp   ltptcs \n",
              "Date                                       \n",
              "01-Apr-2015  01-Apr-2015  2,544.05  2544.05\n",
              "06-Apr-2015  06-Apr-2015  2,548.30  2548.30\n",
              "07-Apr-2015  07-Apr-2015  2,588.95  2588.95\n",
              "08-Apr-2015  08-Apr-2015  2,646.00  2646.00\n",
              "09-Apr-2015  09-Apr-2015  2,662.60  2662.60\n",
              "...                  ...       ...      ...\n",
              "27-Mar-2017  27-Mar-2017  2,411.00  2411.00\n",
              "28-Mar-2017  28-Mar-2017  2,430.70  2430.70\n",
              "29-Mar-2017  29-Mar-2017  2,443.10  2443.10\n",
              "30-Mar-2017  30-Mar-2017  2,436.70  2436.70\n",
              "31-Mar-2017  31-Mar-2017  2,423.10  2423.10\n",
              "\n",
              "[495 rows x 3 columns]"
            ]
          },
          "metadata": {
            "tags": []
          },
          "execution_count": 60
        }
      ]
    },
    {
      "cell_type": "code",
      "metadata": {
        "id": "veGH7eczgwIt",
        "colab": {
          "base_uri": "https://localhost:8080/",
          "height": 277
        },
        "outputId": "6e37a222-558e-4eca-c254-1cc6b245ce76"
      },
      "source": [
        "df1['ltptcs ']=df1['ltptcs '].astype(float)\n",
        "print (df1)"
      ],
      "execution_count": null,
      "outputs": [
        {
          "output_type": "stream",
          "text": [
            "                   Date       ltp   ltptcs \n",
            "Date                                       \n",
            "01-Apr-2015  01-Apr-2015  2,544.05  2544.05\n",
            "06-Apr-2015  06-Apr-2015  2,548.30  2548.30\n",
            "07-Apr-2015  07-Apr-2015  2,588.95  2588.95\n",
            "08-Apr-2015  08-Apr-2015  2,646.00  2646.00\n",
            "09-Apr-2015  09-Apr-2015  2,662.60  2662.60\n",
            "...                  ...       ...      ...\n",
            "27-Mar-2017  27-Mar-2017  2,411.00  2411.00\n",
            "28-Mar-2017  28-Mar-2017  2,430.70  2430.70\n",
            "29-Mar-2017  29-Mar-2017  2,443.10  2443.10\n",
            "30-Mar-2017  30-Mar-2017  2,436.70  2436.70\n",
            "31-Mar-2017  31-Mar-2017  2,423.10  2423.10\n",
            "\n",
            "[495 rows x 3 columns]\n"
          ],
          "name": "stdout"
        }
      ]
    },
    {
      "cell_type": "code",
      "metadata": {
        "id": "6zJ7BRuwg9Nt",
        "colab": {
          "base_uri": "https://localhost:8080/",
          "height": 242
        },
        "outputId": "6bf47952-c5fc-41bb-ed46-9175d6c27b97"
      },
      "source": [
        "returns1 = df1['ltptcs '].pct_change()[1:]\n",
        "returns1"
      ],
      "execution_count": null,
      "outputs": [
        {
          "output_type": "execute_result",
          "data": {
            "text/plain": [
              "Date \n",
              "06-Apr-2015    0.001671\n",
              "07-Apr-2015    0.015952\n",
              "08-Apr-2015    0.022036\n",
              "09-Apr-2015    0.006274\n",
              "10-Apr-2015   -0.004319\n",
              "                 ...   \n",
              "27-Mar-2017   -0.007002\n",
              "28-Mar-2017    0.008171\n",
              "29-Mar-2017    0.005101\n",
              "30-Mar-2017   -0.002620\n",
              "31-Mar-2017   -0.005581\n",
              "Name: ltptcs , Length: 494, dtype: float64"
            ]
          },
          "metadata": {
            "tags": []
          },
          "execution_count": 62
        }
      ]
    },
    {
      "cell_type": "code",
      "metadata": {
        "id": "RdoG8T2EhJO0",
        "colab": {
          "base_uri": "https://localhost:8080/",
          "height": 34
        },
        "outputId": "4a627ef5-112c-4b71-ea79-031d79cfffb2"
      },
      "source": [
        "mean_return = returns1.mean()\n",
        "return_stdev = returns1.std()\n",
        "annualised_return = round(mean_return * 252,2)\n",
        "annualised_stdev = round(return_stdev * np.sqrt(252),2)\n",
        "annualised_return"
      ],
      "execution_count": null,
      "outputs": [
        {
          "output_type": "execute_result",
          "data": {
            "text/plain": [
              "-0.0"
            ]
          },
          "metadata": {
            "tags": []
          },
          "execution_count": 63
        }
      ]
    },
    {
      "cell_type": "code",
      "metadata": {
        "id": "ln8oTP8ohN7R",
        "colab": {
          "base_uri": "https://localhost:8080/",
          "height": 34
        },
        "outputId": "a70e8c72-4373-4591-a83c-5cdfe75d0ac2"
      },
      "source": [
        "annualised_stdev"
      ],
      "execution_count": null,
      "outputs": [
        {
          "output_type": "execute_result",
          "data": {
            "text/plain": [
              "0.22"
            ]
          },
          "metadata": {
            "tags": []
          },
          "execution_count": 64
        }
      ]
    },
    {
      "cell_type": "code",
      "metadata": {
        "id": "NKr2_jB5hsGW",
        "colab": {
          "resources": {
            "http://localhost:8080/nbextensions/google.colab/files.js": {
              "data": "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",
              "ok": true,
              "headers": [
                [
                  "content-type",
                  "application/javascript"
                ]
              ],
              "status": 200,
              "status_text": ""
            }
          },
          "base_uri": "https://localhost:8080/",
          "height": 73
        },
        "outputId": "8487f2c0-d5a5-4c64-9ae7-7ec63cae67d2"
      },
      "source": [
        "uploaded = files.upload()"
      ],
      "execution_count": null,
      "outputs": [
        {
          "output_type": "display_data",
          "data": {
            "text/html": [
              "\n",
              "     <input type=\"file\" id=\"files-8cb3fcd3-8a2d-4c28-b23a-2ccc26f06860\" name=\"files[]\" multiple disabled\n",
              "        style=\"border:none\" />\n",
              "     <output id=\"result-8cb3fcd3-8a2d-4c28-b23a-2ccc26f06860\">\n",
              "      Upload widget is only available when the cell has been executed in the\n",
              "      current browser session. Please rerun this cell to enable.\n",
              "      </output>\n",
              "      <script src=\"/nbextensions/google.colab/files.js\"></script> "
            ],
            "text/plain": [
              "<IPython.core.display.HTML object>"
            ]
          },
          "metadata": {
            "tags": []
          }
        },
        {
          "output_type": "stream",
          "text": [
            "Saving hdfc.csv to hdfc (2).csv\n"
          ],
          "name": "stdout"
        }
      ]
    },
    {
      "cell_type": "code",
      "metadata": {
        "id": "RH73JEtFhuwz"
      },
      "source": [
        "hdfc = pd.read_csv(io.BytesIO(uploaded['hdfc.csv']))\n"
      ],
      "execution_count": null,
      "outputs": []
    },
    {
      "cell_type": "code",
      "metadata": {
        "id": "0zU2ZmrAh49d",
        "colab": {
          "resources": {
            "http://localhost:8080/nbextensions/google.colab/files.js": {
              "data": "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",
              "ok": true,
              "headers": [
                [
                  "content-type",
                  "application/javascript"
                ]
              ],
              "status": 200,
              "status_text": ""
            }
          },
          "base_uri": "https://localhost:8080/",
          "height": 73
        },
        "outputId": "173ca231-fc0d-4765-eaf2-15391a280f66"
      },
      "source": [
        "uploaded = files.upload()\n"
      ],
      "execution_count": null,
      "outputs": [
        {
          "output_type": "display_data",
          "data": {
            "text/html": [
              "\n",
              "     <input type=\"file\" id=\"files-f4e58bff-dfbb-4596-8ebe-87e89d5b6b09\" name=\"files[]\" multiple disabled\n",
              "        style=\"border:none\" />\n",
              "     <output id=\"result-f4e58bff-dfbb-4596-8ebe-87e89d5b6b09\">\n",
              "      Upload widget is only available when the cell has been executed in the\n",
              "      current browser session. Please rerun this cell to enable.\n",
              "      </output>\n",
              "      <script src=\"/nbextensions/google.colab/files.js\"></script> "
            ],
            "text/plain": [
              "<IPython.core.display.HTML object>"
            ]
          },
          "metadata": {
            "tags": []
          }
        },
        {
          "output_type": "stream",
          "text": [
            "Saving airtel.csv to airtel (2).csv\n"
          ],
          "name": "stdout"
        }
      ]
    },
    {
      "cell_type": "code",
      "metadata": {
        "id": "oG5K6VMfiFiC"
      },
      "source": [
        "airtel = pd.read_csv(io.BytesIO(uploaded['airtel.csv']))\n"
      ],
      "execution_count": null,
      "outputs": []
    },
    {
      "cell_type": "code",
      "metadata": {
        "id": "XWblPHbdiRYp",
        "colab": {
          "resources": {
            "http://localhost:8080/nbextensions/google.colab/files.js": {
              "data": "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",
              "ok": true,
              "headers": [
                [
                  "content-type",
                  "application/javascript"
                ]
              ],
              "status": 200,
              "status_text": ""
            }
          },
          "base_uri": "https://localhost:8080/",
          "height": 73
        },
        "outputId": "002ca44c-bf6d-440c-a015-33543b295011"
      },
      "source": [
        "uploaded = files.upload()"
      ],
      "execution_count": null,
      "outputs": [
        {
          "output_type": "display_data",
          "data": {
            "text/html": [
              "\n",
              "     <input type=\"file\" id=\"files-6e17f88e-65a7-4bf6-be40-6bbc167dbbe1\" name=\"files[]\" multiple disabled\n",
              "        style=\"border:none\" />\n",
              "     <output id=\"result-6e17f88e-65a7-4bf6-be40-6bbc167dbbe1\">\n",
              "      Upload widget is only available when the cell has been executed in the\n",
              "      current browser session. Please rerun this cell to enable.\n",
              "      </output>\n",
              "      <script src=\"/nbextensions/google.colab/files.js\"></script> "
            ],
            "text/plain": [
              "<IPython.core.display.HTML object>"
            ]
          },
          "metadata": {
            "tags": []
          }
        },
        {
          "output_type": "stream",
          "text": [
            "Saving ITC.csv to ITC (2).csv\n"
          ],
          "name": "stdout"
        }
      ]
    },
    {
      "cell_type": "code",
      "metadata": {
        "id": "e40Ir5yRjFXW"
      },
      "source": [
        "itc = pd.read_csv(io.BytesIO(uploaded['ITC.csv']))\n"
      ],
      "execution_count": null,
      "outputs": []
    },
    {
      "cell_type": "code",
      "metadata": {
        "id": "OP3BGTKvjWnr",
        "colab": {
          "resources": {
            "http://localhost:8080/nbextensions/google.colab/files.js": {
              "data": "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",
              "ok": true,
              "headers": [
                [
                  "content-type",
                  "application/javascript"
                ]
              ],
              "status": 200,
              "status_text": ""
            }
          },
          "base_uri": "https://localhost:8080/",
          "height": 73
        },
        "outputId": "e87d4170-2f60-4ad7-deb8-867d804fe54a"
      },
      "source": [
        "uploaded = files.upload()"
      ],
      "execution_count": null,
      "outputs": [
        {
          "output_type": "display_data",
          "data": {
            "text/html": [
              "\n",
              "     <input type=\"file\" id=\"files-4f27f60f-2bc3-4be0-a800-e929ae44baf1\" name=\"files[]\" multiple disabled\n",
              "        style=\"border:none\" />\n",
              "     <output id=\"result-4f27f60f-2bc3-4be0-a800-e929ae44baf1\">\n",
              "      Upload widget is only available when the cell has been executed in the\n",
              "      current browser session. Please rerun this cell to enable.\n",
              "      </output>\n",
              "      <script src=\"/nbextensions/google.colab/files.js\"></script> "
            ],
            "text/plain": [
              "<IPython.core.display.HTML object>"
            ]
          },
          "metadata": {
            "tags": []
          }
        },
        {
          "output_type": "stream",
          "text": [
            "Saving DR.REDDY.csv to DR.REDDY (2).csv\n"
          ],
          "name": "stdout"
        }
      ]
    },
    {
      "cell_type": "code",
      "metadata": {
        "id": "B5Cxj6kgjcLN"
      },
      "source": [
        "reddy = pd.read_csv(io.BytesIO(uploaded['DR.REDDY.csv']))\n"
      ],
      "execution_count": null,
      "outputs": []
    },
    {
      "cell_type": "code",
      "metadata": {
        "id": "pD_mb0OXjl7L"
      },
      "source": [
        "hdfc = hdfc.iloc[::-1]\n",
        "airtel = airtel.iloc[::-1]\n",
        "itc = itc.iloc[::-1]\n",
        "reddy = reddy.iloc[::-1]"
      ],
      "execution_count": null,
      "outputs": []
    },
    {
      "cell_type": "code",
      "metadata": {
        "id": "jkjg2qefkgTP"
      },
      "source": [
        "\n",
        "a1 = pd.concat([hdfc['Date '],hdfc['ltp ']],axis=1)\n",
        "a1 = a1.set_axis(a1['Date '])\n",
        "b1 = pd.concat([airtel['Date '],airtel['ltp ']],axis=1)\n",
        "b1 = b1.set_axis(b1['Date '])\n",
        "c1 = pd.concat([itc['Date '],itc['ltp ']],axis=1)\n",
        "c1 = c1.set_axis(c1['Date '])\n",
        "d1 = pd.concat([reddy['Date '],reddy['ltp ']],axis=1)\n",
        "d1 = d1.set_axis(d1['Date '])\n"
      ],
      "execution_count": null,
      "outputs": []
    },
    {
      "cell_type": "code",
      "metadata": {
        "id": "EvxZg9_Xk__C",
        "colab": {
          "base_uri": "https://localhost:8080/",
          "height": 446
        },
        "outputId": "497f118e-3720-4c7a-d88d-53b7d1b0f146"
      },
      "source": [
        "a1['ltphdfc '] = a1['ltp '].str.replace(',', '')\n",
        "a1\n"
      ],
      "execution_count": null,
      "outputs": [
        {
          "output_type": "execute_result",
          "data": {
            "text/html": [
              "<div>\n",
              "<style scoped>\n",
              "    .dataframe tbody tr th:only-of-type {\n",
              "        vertical-align: middle;\n",
              "    }\n",
              "\n",
              "    .dataframe tbody tr th {\n",
              "        vertical-align: top;\n",
              "    }\n",
              "\n",
              "    .dataframe thead th {\n",
              "        text-align: right;\n",
              "    }\n",
              "</style>\n",
              "<table border=\"1\" class=\"dataframe\">\n",
              "  <thead>\n",
              "    <tr style=\"text-align: right;\">\n",
              "      <th></th>\n",
              "      <th>Date</th>\n",
              "      <th>ltp</th>\n",
              "      <th>ltphdfc</th>\n",
              "    </tr>\n",
              "    <tr>\n",
              "      <th>Date</th>\n",
              "      <th></th>\n",
              "      <th></th>\n",
              "      <th></th>\n",
              "    </tr>\n",
              "  </thead>\n",
              "  <tbody>\n",
              "    <tr>\n",
              "      <th>01-Apr-2015</th>\n",
              "      <td>01-Apr-2015</td>\n",
              "      <td>1,033.90</td>\n",
              "      <td>1033.90</td>\n",
              "    </tr>\n",
              "    <tr>\n",
              "      <th>06-Apr-2015</th>\n",
              "      <td>06-Apr-2015</td>\n",
              "      <td>1,030.10</td>\n",
              "      <td>1030.10</td>\n",
              "    </tr>\n",
              "    <tr>\n",
              "      <th>07-Apr-2015</th>\n",
              "      <td>07-Apr-2015</td>\n",
              "      <td>1,037.25</td>\n",
              "      <td>1037.25</td>\n",
              "    </tr>\n",
              "    <tr>\n",
              "      <th>08-Apr-2015</th>\n",
              "      <td>08-Apr-2015</td>\n",
              "      <td>1,036.00</td>\n",
              "      <td>1036.00</td>\n",
              "    </tr>\n",
              "    <tr>\n",
              "      <th>09-Apr-2015</th>\n",
              "      <td>09-Apr-2015</td>\n",
              "      <td>1,054.90</td>\n",
              "      <td>1054.90</td>\n",
              "    </tr>\n",
              "    <tr>\n",
              "      <th>...</th>\n",
              "      <td>...</td>\n",
              "      <td>...</td>\n",
              "      <td>...</td>\n",
              "    </tr>\n",
              "    <tr>\n",
              "      <th>27-Mar-2017</th>\n",
              "      <td>27-Mar-2017</td>\n",
              "      <td>1,411.95</td>\n",
              "      <td>1411.95</td>\n",
              "    </tr>\n",
              "    <tr>\n",
              "      <th>28-Mar-2017</th>\n",
              "      <td>28-Mar-2017</td>\n",
              "      <td>1,421.10</td>\n",
              "      <td>1421.10</td>\n",
              "    </tr>\n",
              "    <tr>\n",
              "      <th>29-Mar-2017</th>\n",
              "      <td>29-Mar-2017</td>\n",
              "      <td>1,429.55</td>\n",
              "      <td>1429.55</td>\n",
              "    </tr>\n",
              "    <tr>\n",
              "      <th>30-Mar-2017</th>\n",
              "      <td>30-Mar-2017</td>\n",
              "      <td>1,460.00</td>\n",
              "      <td>1460.00</td>\n",
              "    </tr>\n",
              "    <tr>\n",
              "      <th>31-Mar-2017</th>\n",
              "      <td>31-Mar-2017</td>\n",
              "      <td>1,440.00</td>\n",
              "      <td>1440.00</td>\n",
              "    </tr>\n",
              "  </tbody>\n",
              "</table>\n",
              "<p>495 rows × 3 columns</p>\n",
              "</div>"
            ],
            "text/plain": [
              "                   Date       ltp  ltphdfc \n",
              "Date                                       \n",
              "01-Apr-2015  01-Apr-2015  1,033.90  1033.90\n",
              "06-Apr-2015  06-Apr-2015  1,030.10  1030.10\n",
              "07-Apr-2015  07-Apr-2015  1,037.25  1037.25\n",
              "08-Apr-2015  08-Apr-2015  1,036.00  1036.00\n",
              "09-Apr-2015  09-Apr-2015  1,054.90  1054.90\n",
              "...                  ...       ...      ...\n",
              "27-Mar-2017  27-Mar-2017  1,411.95  1411.95\n",
              "28-Mar-2017  28-Mar-2017  1,421.10  1421.10\n",
              "29-Mar-2017  29-Mar-2017  1,429.55  1429.55\n",
              "30-Mar-2017  30-Mar-2017  1,460.00  1460.00\n",
              "31-Mar-2017  31-Mar-2017  1,440.00  1440.00\n",
              "\n",
              "[495 rows x 3 columns]"
            ]
          },
          "metadata": {
            "tags": []
          },
          "execution_count": 76
        }
      ]
    },
    {
      "cell_type": "code",
      "metadata": {
        "id": "g1Hhpbffmimv",
        "colab": {
          "base_uri": "https://localhost:8080/",
          "height": 446
        },
        "outputId": "daa95389-c05c-4cfe-888d-da9986a53cd5"
      },
      "source": [
        "b1['ltpairtel '] = b1['ltp ']\n",
        "b1"
      ],
      "execution_count": null,
      "outputs": [
        {
          "output_type": "execute_result",
          "data": {
            "text/html": [
              "<div>\n",
              "<style scoped>\n",
              "    .dataframe tbody tr th:only-of-type {\n",
              "        vertical-align: middle;\n",
              "    }\n",
              "\n",
              "    .dataframe tbody tr th {\n",
              "        vertical-align: top;\n",
              "    }\n",
              "\n",
              "    .dataframe thead th {\n",
              "        text-align: right;\n",
              "    }\n",
              "</style>\n",
              "<table border=\"1\" class=\"dataframe\">\n",
              "  <thead>\n",
              "    <tr style=\"text-align: right;\">\n",
              "      <th></th>\n",
              "      <th>Date</th>\n",
              "      <th>ltp</th>\n",
              "      <th>ltpairtel</th>\n",
              "    </tr>\n",
              "    <tr>\n",
              "      <th>Date</th>\n",
              "      <th></th>\n",
              "      <th></th>\n",
              "      <th></th>\n",
              "    </tr>\n",
              "  </thead>\n",
              "  <tbody>\n",
              "    <tr>\n",
              "      <th>01-Apr-2015</th>\n",
              "      <td>01-Apr-2015</td>\n",
              "      <td>401.00</td>\n",
              "      <td>401.00</td>\n",
              "    </tr>\n",
              "    <tr>\n",
              "      <th>06-Apr-2015</th>\n",
              "      <td>06-Apr-2015</td>\n",
              "      <td>399.70</td>\n",
              "      <td>399.70</td>\n",
              "    </tr>\n",
              "    <tr>\n",
              "      <th>07-Apr-2015</th>\n",
              "      <td>07-Apr-2015</td>\n",
              "      <td>409.35</td>\n",
              "      <td>409.35</td>\n",
              "    </tr>\n",
              "    <tr>\n",
              "      <th>08-Apr-2015</th>\n",
              "      <td>08-Apr-2015</td>\n",
              "      <td>419.50</td>\n",
              "      <td>419.50</td>\n",
              "    </tr>\n",
              "    <tr>\n",
              "      <th>09-Apr-2015</th>\n",
              "      <td>09-Apr-2015</td>\n",
              "      <td>405.50</td>\n",
              "      <td>405.50</td>\n",
              "    </tr>\n",
              "    <tr>\n",
              "      <th>...</th>\n",
              "      <td>...</td>\n",
              "      <td>...</td>\n",
              "      <td>...</td>\n",
              "    </tr>\n",
              "    <tr>\n",
              "      <th>27-Mar-2017</th>\n",
              "      <td>27-Mar-2017</td>\n",
              "      <td>339.65</td>\n",
              "      <td>339.65</td>\n",
              "    </tr>\n",
              "    <tr>\n",
              "      <th>28-Mar-2017</th>\n",
              "      <td>28-Mar-2017</td>\n",
              "      <td>340.00</td>\n",
              "      <td>340.00</td>\n",
              "    </tr>\n",
              "    <tr>\n",
              "      <th>29-Mar-2017</th>\n",
              "      <td>29-Mar-2017</td>\n",
              "      <td>345.60</td>\n",
              "      <td>345.60</td>\n",
              "    </tr>\n",
              "    <tr>\n",
              "      <th>30-Mar-2017</th>\n",
              "      <td>30-Mar-2017</td>\n",
              "      <td>347.70</td>\n",
              "      <td>347.70</td>\n",
              "    </tr>\n",
              "    <tr>\n",
              "      <th>31-Mar-2017</th>\n",
              "      <td>31-Mar-2017</td>\n",
              "      <td>348.25</td>\n",
              "      <td>348.25</td>\n",
              "    </tr>\n",
              "  </tbody>\n",
              "</table>\n",
              "<p>495 rows × 3 columns</p>\n",
              "</div>"
            ],
            "text/plain": [
              "                   Date     ltp   ltpairtel \n",
              "Date                                        \n",
              "01-Apr-2015  01-Apr-2015  401.00      401.00\n",
              "06-Apr-2015  06-Apr-2015  399.70      399.70\n",
              "07-Apr-2015  07-Apr-2015  409.35      409.35\n",
              "08-Apr-2015  08-Apr-2015  419.50      419.50\n",
              "09-Apr-2015  09-Apr-2015  405.50      405.50\n",
              "...                  ...     ...         ...\n",
              "27-Mar-2017  27-Mar-2017  339.65      339.65\n",
              "28-Mar-2017  28-Mar-2017  340.00      340.00\n",
              "29-Mar-2017  29-Mar-2017  345.60      345.60\n",
              "30-Mar-2017  30-Mar-2017  347.70      347.70\n",
              "31-Mar-2017  31-Mar-2017  348.25      348.25\n",
              "\n",
              "[495 rows x 3 columns]"
            ]
          },
          "metadata": {
            "tags": []
          },
          "execution_count": 79
        }
      ]
    },
    {
      "cell_type": "code",
      "metadata": {
        "id": "6EeedbEkm8s7",
        "colab": {
          "base_uri": "https://localhost:8080/",
          "height": 446
        },
        "outputId": "fecf6177-db97-462a-c25b-ece300245860"
      },
      "source": [
        "c1['ltpitc '] = c1['ltp ']\n",
        "c1"
      ],
      "execution_count": null,
      "outputs": [
        {
          "output_type": "execute_result",
          "data": {
            "text/html": [
              "<div>\n",
              "<style scoped>\n",
              "    .dataframe tbody tr th:only-of-type {\n",
              "        vertical-align: middle;\n",
              "    }\n",
              "\n",
              "    .dataframe tbody tr th {\n",
              "        vertical-align: top;\n",
              "    }\n",
              "\n",
              "    .dataframe thead th {\n",
              "        text-align: right;\n",
              "    }\n",
              "</style>\n",
              "<table border=\"1\" class=\"dataframe\">\n",
              "  <thead>\n",
              "    <tr style=\"text-align: right;\">\n",
              "      <th></th>\n",
              "      <th>Date</th>\n",
              "      <th>ltp</th>\n",
              "      <th>ltpitc</th>\n",
              "    </tr>\n",
              "    <tr>\n",
              "      <th>Date</th>\n",
              "      <th></th>\n",
              "      <th></th>\n",
              "      <th></th>\n",
              "    </tr>\n",
              "  </thead>\n",
              "  <tbody>\n",
              "    <tr>\n",
              "      <th>01-Apr-2015</th>\n",
              "      <td>01-Apr-2015</td>\n",
              "      <td>331.75</td>\n",
              "      <td>331.75</td>\n",
              "    </tr>\n",
              "    <tr>\n",
              "      <th>06-Apr-2015</th>\n",
              "      <td>06-Apr-2015</td>\n",
              "      <td>339.90</td>\n",
              "      <td>339.90</td>\n",
              "    </tr>\n",
              "    <tr>\n",
              "      <th>07-Apr-2015</th>\n",
              "      <td>07-Apr-2015</td>\n",
              "      <td>342.60</td>\n",
              "      <td>342.60</td>\n",
              "    </tr>\n",
              "    <tr>\n",
              "      <th>08-Apr-2015</th>\n",
              "      <td>08-Apr-2015</td>\n",
              "      <td>346.00</td>\n",
              "      <td>346.00</td>\n",
              "    </tr>\n",
              "    <tr>\n",
              "      <th>09-Apr-2015</th>\n",
              "      <td>09-Apr-2015</td>\n",
              "      <td>346.85</td>\n",
              "      <td>346.85</td>\n",
              "    </tr>\n",
              "    <tr>\n",
              "      <th>...</th>\n",
              "      <td>...</td>\n",
              "      <td>...</td>\n",
              "      <td>...</td>\n",
              "    </tr>\n",
              "    <tr>\n",
              "      <th>27-Mar-2017</th>\n",
              "      <td>27-Mar-2017</td>\n",
              "      <td>282.70</td>\n",
              "      <td>282.70</td>\n",
              "    </tr>\n",
              "    <tr>\n",
              "      <th>28-Mar-2017</th>\n",
              "      <td>28-Mar-2017</td>\n",
              "      <td>280.50</td>\n",
              "      <td>280.50</td>\n",
              "    </tr>\n",
              "    <tr>\n",
              "      <th>29-Mar-2017</th>\n",
              "      <td>29-Mar-2017</td>\n",
              "      <td>283.00</td>\n",
              "      <td>283.00</td>\n",
              "    </tr>\n",
              "    <tr>\n",
              "      <th>30-Mar-2017</th>\n",
              "      <td>30-Mar-2017</td>\n",
              "      <td>281.50</td>\n",
              "      <td>281.50</td>\n",
              "    </tr>\n",
              "    <tr>\n",
              "      <th>31-Mar-2017</th>\n",
              "      <td>31-Mar-2017</td>\n",
              "      <td>280.75</td>\n",
              "      <td>280.75</td>\n",
              "    </tr>\n",
              "  </tbody>\n",
              "</table>\n",
              "<p>495 rows × 3 columns</p>\n",
              "</div>"
            ],
            "text/plain": [
              "                   Date     ltp   ltpitc \n",
              "Date                                     \n",
              "01-Apr-2015  01-Apr-2015  331.75   331.75\n",
              "06-Apr-2015  06-Apr-2015  339.90   339.90\n",
              "07-Apr-2015  07-Apr-2015  342.60   342.60\n",
              "08-Apr-2015  08-Apr-2015  346.00   346.00\n",
              "09-Apr-2015  09-Apr-2015  346.85   346.85\n",
              "...                  ...     ...      ...\n",
              "27-Mar-2017  27-Mar-2017  282.70   282.70\n",
              "28-Mar-2017  28-Mar-2017  280.50   280.50\n",
              "29-Mar-2017  29-Mar-2017  283.00   283.00\n",
              "30-Mar-2017  30-Mar-2017  281.50   281.50\n",
              "31-Mar-2017  31-Mar-2017  280.75   280.75\n",
              "\n",
              "[495 rows x 3 columns]"
            ]
          },
          "metadata": {
            "tags": []
          },
          "execution_count": 80
        }
      ]
    },
    {
      "cell_type": "code",
      "metadata": {
        "id": "WH7ei_R6m_P2",
        "colab": {
          "base_uri": "https://localhost:8080/",
          "height": 446
        },
        "outputId": "67fa149a-5fd4-457a-b98f-1b164670a300"
      },
      "source": [
        "d1['ltpreddy '] = d1['ltp '].str.replace(',', '')\n",
        "d1\n"
      ],
      "execution_count": null,
      "outputs": [
        {
          "output_type": "execute_result",
          "data": {
            "text/html": [
              "<div>\n",
              "<style scoped>\n",
              "    .dataframe tbody tr th:only-of-type {\n",
              "        vertical-align: middle;\n",
              "    }\n",
              "\n",
              "    .dataframe tbody tr th {\n",
              "        vertical-align: top;\n",
              "    }\n",
              "\n",
              "    .dataframe thead th {\n",
              "        text-align: right;\n",
              "    }\n",
              "</style>\n",
              "<table border=\"1\" class=\"dataframe\">\n",
              "  <thead>\n",
              "    <tr style=\"text-align: right;\">\n",
              "      <th></th>\n",
              "      <th>Date</th>\n",
              "      <th>ltp</th>\n",
              "      <th>ltpreddy</th>\n",
              "    </tr>\n",
              "    <tr>\n",
              "      <th>Date</th>\n",
              "      <th></th>\n",
              "      <th></th>\n",
              "      <th></th>\n",
              "    </tr>\n",
              "  </thead>\n",
              "  <tbody>\n",
              "    <tr>\n",
              "      <th>01-Apr-2015</th>\n",
              "      <td>01-Apr-2015</td>\n",
              "      <td>3,550.00</td>\n",
              "      <td>3550.00</td>\n",
              "    </tr>\n",
              "    <tr>\n",
              "      <th>06-Apr-2015</th>\n",
              "      <td>06-Apr-2015</td>\n",
              "      <td>3,694.50</td>\n",
              "      <td>3694.50</td>\n",
              "    </tr>\n",
              "    <tr>\n",
              "      <th>07-Apr-2015</th>\n",
              "      <td>07-Apr-2015</td>\n",
              "      <td>3,675.00</td>\n",
              "      <td>3675.00</td>\n",
              "    </tr>\n",
              "    <tr>\n",
              "      <th>08-Apr-2015</th>\n",
              "      <td>08-Apr-2015</td>\n",
              "      <td>3,742.00</td>\n",
              "      <td>3742.00</td>\n",
              "    </tr>\n",
              "    <tr>\n",
              "      <th>09-Apr-2015</th>\n",
              "      <td>09-Apr-2015</td>\n",
              "      <td>3,739.00</td>\n",
              "      <td>3739.00</td>\n",
              "    </tr>\n",
              "    <tr>\n",
              "      <th>...</th>\n",
              "      <td>...</td>\n",
              "      <td>...</td>\n",
              "      <td>...</td>\n",
              "    </tr>\n",
              "    <tr>\n",
              "      <th>27-Mar-2017</th>\n",
              "      <td>27-Mar-2017</td>\n",
              "      <td>2,630.00</td>\n",
              "      <td>2630.00</td>\n",
              "    </tr>\n",
              "    <tr>\n",
              "      <th>28-Mar-2017</th>\n",
              "      <td>28-Mar-2017</td>\n",
              "      <td>2,635.10</td>\n",
              "      <td>2635.10</td>\n",
              "    </tr>\n",
              "    <tr>\n",
              "      <th>29-Mar-2017</th>\n",
              "      <td>29-Mar-2017</td>\n",
              "      <td>2,632.00</td>\n",
              "      <td>2632.00</td>\n",
              "    </tr>\n",
              "    <tr>\n",
              "      <th>30-Mar-2017</th>\n",
              "      <td>30-Mar-2017</td>\n",
              "      <td>2,616.95</td>\n",
              "      <td>2616.95</td>\n",
              "    </tr>\n",
              "    <tr>\n",
              "      <th>31-Mar-2017</th>\n",
              "      <td>31-Mar-2017</td>\n",
              "      <td>2,632.00</td>\n",
              "      <td>2632.00</td>\n",
              "    </tr>\n",
              "  </tbody>\n",
              "</table>\n",
              "<p>495 rows × 3 columns</p>\n",
              "</div>"
            ],
            "text/plain": [
              "                   Date       ltp  ltpreddy \n",
              "Date                                        \n",
              "01-Apr-2015  01-Apr-2015  3,550.00   3550.00\n",
              "06-Apr-2015  06-Apr-2015  3,694.50   3694.50\n",
              "07-Apr-2015  07-Apr-2015  3,675.00   3675.00\n",
              "08-Apr-2015  08-Apr-2015  3,742.00   3742.00\n",
              "09-Apr-2015  09-Apr-2015  3,739.00   3739.00\n",
              "...                  ...       ...       ...\n",
              "27-Mar-2017  27-Mar-2017  2,630.00   2630.00\n",
              "28-Mar-2017  28-Mar-2017  2,635.10   2635.10\n",
              "29-Mar-2017  29-Mar-2017  2,632.00   2632.00\n",
              "30-Mar-2017  30-Mar-2017  2,616.95   2616.95\n",
              "31-Mar-2017  31-Mar-2017  2,632.00   2632.00\n",
              "\n",
              "[495 rows x 3 columns]"
            ]
          },
          "metadata": {
            "tags": []
          },
          "execution_count": 81
        }
      ]
    },
    {
      "cell_type": "code",
      "metadata": {
        "id": "jOBa0IEgnAKA",
        "colab": {
          "base_uri": "https://localhost:8080/",
          "height": 446
        },
        "outputId": "29db9f8e-ddd7-460d-c687-5a04a048cb8d"
      },
      "source": [
        "d1"
      ],
      "execution_count": null,
      "outputs": [
        {
          "output_type": "execute_result",
          "data": {
            "text/html": [
              "<div>\n",
              "<style scoped>\n",
              "    .dataframe tbody tr th:only-of-type {\n",
              "        vertical-align: middle;\n",
              "    }\n",
              "\n",
              "    .dataframe tbody tr th {\n",
              "        vertical-align: top;\n",
              "    }\n",
              "\n",
              "    .dataframe thead th {\n",
              "        text-align: right;\n",
              "    }\n",
              "</style>\n",
              "<table border=\"1\" class=\"dataframe\">\n",
              "  <thead>\n",
              "    <tr style=\"text-align: right;\">\n",
              "      <th></th>\n",
              "      <th>Date</th>\n",
              "      <th>ltp</th>\n",
              "    </tr>\n",
              "    <tr>\n",
              "      <th>Date</th>\n",
              "      <th></th>\n",
              "      <th></th>\n",
              "    </tr>\n",
              "  </thead>\n",
              "  <tbody>\n",
              "    <tr>\n",
              "      <th>01-Apr-2015</th>\n",
              "      <td>01-Apr-2015</td>\n",
              "      <td>3550.00</td>\n",
              "    </tr>\n",
              "    <tr>\n",
              "      <th>06-Apr-2015</th>\n",
              "      <td>06-Apr-2015</td>\n",
              "      <td>3694.50</td>\n",
              "    </tr>\n",
              "    <tr>\n",
              "      <th>07-Apr-2015</th>\n",
              "      <td>07-Apr-2015</td>\n",
              "      <td>3675.00</td>\n",
              "    </tr>\n",
              "    <tr>\n",
              "      <th>08-Apr-2015</th>\n",
              "      <td>08-Apr-2015</td>\n",
              "      <td>3742.00</td>\n",
              "    </tr>\n",
              "    <tr>\n",
              "      <th>09-Apr-2015</th>\n",
              "      <td>09-Apr-2015</td>\n",
              "      <td>3739.00</td>\n",
              "    </tr>\n",
              "    <tr>\n",
              "      <th>...</th>\n",
              "      <td>...</td>\n",
              "      <td>...</td>\n",
              "    </tr>\n",
              "    <tr>\n",
              "      <th>27-Mar-2017</th>\n",
              "      <td>27-Mar-2017</td>\n",
              "      <td>2630.00</td>\n",
              "    </tr>\n",
              "    <tr>\n",
              "      <th>28-Mar-2017</th>\n",
              "      <td>28-Mar-2017</td>\n",
              "      <td>2635.10</td>\n",
              "    </tr>\n",
              "    <tr>\n",
              "      <th>29-Mar-2017</th>\n",
              "      <td>29-Mar-2017</td>\n",
              "      <td>2632.00</td>\n",
              "    </tr>\n",
              "    <tr>\n",
              "      <th>30-Mar-2017</th>\n",
              "      <td>30-Mar-2017</td>\n",
              "      <td>2616.95</td>\n",
              "    </tr>\n",
              "    <tr>\n",
              "      <th>31-Mar-2017</th>\n",
              "      <td>31-Mar-2017</td>\n",
              "      <td>2632.00</td>\n",
              "    </tr>\n",
              "  </tbody>\n",
              "</table>\n",
              "<p>495 rows × 2 columns</p>\n",
              "</div>"
            ],
            "text/plain": [
              "                   Date      ltp \n",
              "Date                             \n",
              "01-Apr-2015  01-Apr-2015  3550.00\n",
              "06-Apr-2015  06-Apr-2015  3694.50\n",
              "07-Apr-2015  07-Apr-2015  3675.00\n",
              "08-Apr-2015  08-Apr-2015  3742.00\n",
              "09-Apr-2015  09-Apr-2015  3739.00\n",
              "...                  ...      ...\n",
              "27-Mar-2017  27-Mar-2017  2630.00\n",
              "28-Mar-2017  28-Mar-2017  2635.10\n",
              "29-Mar-2017  29-Mar-2017  2632.00\n",
              "30-Mar-2017  30-Mar-2017  2616.95\n",
              "31-Mar-2017  31-Mar-2017  2632.00\n",
              "\n",
              "[495 rows x 2 columns]"
            ]
          },
          "metadata": {
            "tags": []
          },
          "execution_count": 47
        }
      ]
    },
    {
      "cell_type": "code",
      "metadata": {
        "id": "33a1dAUOn2rX"
      },
      "source": [
        "a1['ltphdfc '] = a1['ltphdfc '].astype(float)\n",
        "b1['ltpairtel '] = b1['ltpairtel '].astype(float)\n",
        "c1['ltpitc '] = c1['ltpitc '].astype(float)\n",
        "d1['ltpreddy '] = d1['ltpreddy '].astype(float)"
      ],
      "execution_count": null,
      "outputs": []
    },
    {
      "cell_type": "code",
      "metadata": {
        "id": "P47gUbQon9uW"
      },
      "source": [
        "returns2 = a1['ltphdfc '].pct_change()[1:]\n",
        "returns3 = b1['ltpairtel '].pct_change()[1:]\n",
        "returns4 = c1['ltpitc '].pct_change()[1:]\n",
        "returns5 = d1['ltpreddy '].pct_change()[1:]"
      ],
      "execution_count": null,
      "outputs": []
    },
    {
      "cell_type": "code",
      "metadata": {
        "id": "omOHqC5aon8i",
        "colab": {
          "base_uri": "https://localhost:8080/",
          "height": 242
        },
        "outputId": "63aae489-9271-441d-8dcc-705542a9f372"
      },
      "source": [
        "returns2"
      ],
      "execution_count": null,
      "outputs": [
        {
          "output_type": "execute_result",
          "data": {
            "text/plain": [
              "Date \n",
              "06-Apr-2015   -0.003675\n",
              "07-Apr-2015    0.006941\n",
              "08-Apr-2015   -0.001205\n",
              "09-Apr-2015    0.018243\n",
              "10-Apr-2015   -0.012987\n",
              "                 ...   \n",
              "27-Mar-2017   -0.008462\n",
              "28-Mar-2017    0.006480\n",
              "29-Mar-2017    0.005946\n",
              "30-Mar-2017    0.021300\n",
              "31-Mar-2017   -0.013699\n",
              "Name: ltphdfc , Length: 494, dtype: float64"
            ]
          },
          "metadata": {
            "tags": []
          },
          "execution_count": 84
        }
      ]
    },
    {
      "cell_type": "code",
      "metadata": {
        "id": "8vlTBw1AorMZ",
        "colab": {
          "base_uri": "https://localhost:8080/",
          "height": 242
        },
        "outputId": "38405bc8-30f1-46c3-83c3-db9fa5a5f52c"
      },
      "source": [
        "returns3"
      ],
      "execution_count": null,
      "outputs": [
        {
          "output_type": "execute_result",
          "data": {
            "text/plain": [
              "Date \n",
              "06-Apr-2015   -0.003242\n",
              "07-Apr-2015    0.024143\n",
              "08-Apr-2015    0.024795\n",
              "09-Apr-2015   -0.033373\n",
              "10-Apr-2015    0.009988\n",
              "                 ...   \n",
              "27-Mar-2017    0.001770\n",
              "28-Mar-2017    0.001030\n",
              "29-Mar-2017    0.016471\n",
              "30-Mar-2017    0.006076\n",
              "31-Mar-2017    0.001582\n",
              "Name: ltpairtel , Length: 494, dtype: float64"
            ]
          },
          "metadata": {
            "tags": []
          },
          "execution_count": 85
        }
      ]
    },
    {
      "cell_type": "code",
      "metadata": {
        "id": "HPs0KbcUotNU",
        "colab": {
          "base_uri": "https://localhost:8080/",
          "height": 242
        },
        "outputId": "c0166bc3-4691-4d2c-fc63-f16bdd01ad67"
      },
      "source": [
        "returns4"
      ],
      "execution_count": null,
      "outputs": [
        {
          "output_type": "execute_result",
          "data": {
            "text/plain": [
              "Date \n",
              "06-Apr-2015    0.024567\n",
              "07-Apr-2015    0.007944\n",
              "08-Apr-2015    0.009924\n",
              "09-Apr-2015    0.002457\n",
              "10-Apr-2015    0.000144\n",
              "                 ...   \n",
              "27-Mar-2017    0.007484\n",
              "28-Mar-2017   -0.007782\n",
              "29-Mar-2017    0.008913\n",
              "30-Mar-2017   -0.005300\n",
              "31-Mar-2017   -0.002664\n",
              "Name: ltpitc , Length: 494, dtype: float64"
            ]
          },
          "metadata": {
            "tags": []
          },
          "execution_count": 86
        }
      ]
    },
    {
      "cell_type": "code",
      "metadata": {
        "id": "GzijUG4_ovpx",
        "colab": {
          "base_uri": "https://localhost:8080/",
          "height": 242
        },
        "outputId": "7d516371-26ef-4cb5-d49b-8c7bde69d478"
      },
      "source": [
        "returns5"
      ],
      "execution_count": null,
      "outputs": [
        {
          "output_type": "execute_result",
          "data": {
            "text/plain": [
              "Date \n",
              "06-Apr-2015    0.040704\n",
              "07-Apr-2015   -0.005278\n",
              "08-Apr-2015    0.018231\n",
              "09-Apr-2015   -0.000802\n",
              "10-Apr-2015    0.011300\n",
              "                 ...   \n",
              "27-Mar-2017    0.001523\n",
              "28-Mar-2017    0.001939\n",
              "29-Mar-2017   -0.001176\n",
              "30-Mar-2017   -0.005718\n",
              "31-Mar-2017    0.005751\n",
              "Name: ltpreddy , Length: 494, dtype: float64"
            ]
          },
          "metadata": {
            "tags": []
          },
          "execution_count": 87
        }
      ]
    },
    {
      "cell_type": "code",
      "metadata": {
        "id": "NNUV4WLGowjK",
        "colab": {
          "base_uri": "https://localhost:8080/",
          "height": 446
        },
        "outputId": "308d4357-61c0-4ff2-923c-9c46b1e73363"
      },
      "source": [
        "data = pd.concat([df1['ltptcs '],a1['ltphdfc '],b1['ltpairtel '],c1['ltpitc '],d1['ltpreddy ']],axis=1)\n",
        "data"
      ],
      "execution_count": null,
      "outputs": [
        {
          "output_type": "execute_result",
          "data": {
            "text/html": [
              "<div>\n",
              "<style scoped>\n",
              "    .dataframe tbody tr th:only-of-type {\n",
              "        vertical-align: middle;\n",
              "    }\n",
              "\n",
              "    .dataframe tbody tr th {\n",
              "        vertical-align: top;\n",
              "    }\n",
              "\n",
              "    .dataframe thead th {\n",
              "        text-align: right;\n",
              "    }\n",
              "</style>\n",
              "<table border=\"1\" class=\"dataframe\">\n",
              "  <thead>\n",
              "    <tr style=\"text-align: right;\">\n",
              "      <th></th>\n",
              "      <th>ltptcs</th>\n",
              "      <th>ltphdfc</th>\n",
              "      <th>ltpairtel</th>\n",
              "      <th>ltpitc</th>\n",
              "      <th>ltpreddy</th>\n",
              "    </tr>\n",
              "    <tr>\n",
              "      <th>Date</th>\n",
              "      <th></th>\n",
              "      <th></th>\n",
              "      <th></th>\n",
              "      <th></th>\n",
              "      <th></th>\n",
              "    </tr>\n",
              "  </thead>\n",
              "  <tbody>\n",
              "    <tr>\n",
              "      <th>01-Apr-2015</th>\n",
              "      <td>2544.05</td>\n",
              "      <td>1033.90</td>\n",
              "      <td>401.00</td>\n",
              "      <td>331.75</td>\n",
              "      <td>3550.00</td>\n",
              "    </tr>\n",
              "    <tr>\n",
              "      <th>06-Apr-2015</th>\n",
              "      <td>2548.30</td>\n",
              "      <td>1030.10</td>\n",
              "      <td>399.70</td>\n",
              "      <td>339.90</td>\n",
              "      <td>3694.50</td>\n",
              "    </tr>\n",
              "    <tr>\n",
              "      <th>07-Apr-2015</th>\n",
              "      <td>2588.95</td>\n",
              "      <td>1037.25</td>\n",
              "      <td>409.35</td>\n",
              "      <td>342.60</td>\n",
              "      <td>3675.00</td>\n",
              "    </tr>\n",
              "    <tr>\n",
              "      <th>08-Apr-2015</th>\n",
              "      <td>2646.00</td>\n",
              "      <td>1036.00</td>\n",
              "      <td>419.50</td>\n",
              "      <td>346.00</td>\n",
              "      <td>3742.00</td>\n",
              "    </tr>\n",
              "    <tr>\n",
              "      <th>09-Apr-2015</th>\n",
              "      <td>2662.60</td>\n",
              "      <td>1054.90</td>\n",
              "      <td>405.50</td>\n",
              "      <td>346.85</td>\n",
              "      <td>3739.00</td>\n",
              "    </tr>\n",
              "    <tr>\n",
              "      <th>...</th>\n",
              "      <td>...</td>\n",
              "      <td>...</td>\n",
              "      <td>...</td>\n",
              "      <td>...</td>\n",
              "      <td>...</td>\n",
              "    </tr>\n",
              "    <tr>\n",
              "      <th>27-Mar-2017</th>\n",
              "      <td>2411.00</td>\n",
              "      <td>1411.95</td>\n",
              "      <td>339.65</td>\n",
              "      <td>282.70</td>\n",
              "      <td>2630.00</td>\n",
              "    </tr>\n",
              "    <tr>\n",
              "      <th>28-Mar-2017</th>\n",
              "      <td>2430.70</td>\n",
              "      <td>1421.10</td>\n",
              "      <td>340.00</td>\n",
              "      <td>280.50</td>\n",
              "      <td>2635.10</td>\n",
              "    </tr>\n",
              "    <tr>\n",
              "      <th>29-Mar-2017</th>\n",
              "      <td>2443.10</td>\n",
              "      <td>1429.55</td>\n",
              "      <td>345.60</td>\n",
              "      <td>283.00</td>\n",
              "      <td>2632.00</td>\n",
              "    </tr>\n",
              "    <tr>\n",
              "      <th>30-Mar-2017</th>\n",
              "      <td>2436.70</td>\n",
              "      <td>1460.00</td>\n",
              "      <td>347.70</td>\n",
              "      <td>281.50</td>\n",
              "      <td>2616.95</td>\n",
              "    </tr>\n",
              "    <tr>\n",
              "      <th>31-Mar-2017</th>\n",
              "      <td>2423.10</td>\n",
              "      <td>1440.00</td>\n",
              "      <td>348.25</td>\n",
              "      <td>280.75</td>\n",
              "      <td>2632.00</td>\n",
              "    </tr>\n",
              "  </tbody>\n",
              "</table>\n",
              "<p>495 rows × 5 columns</p>\n",
              "</div>"
            ],
            "text/plain": [
              "             ltptcs   ltphdfc   ltpairtel   ltpitc   ltpreddy \n",
              "Date                                                          \n",
              "01-Apr-2015  2544.05   1033.90      401.00   331.75    3550.00\n",
              "06-Apr-2015  2548.30   1030.10      399.70   339.90    3694.50\n",
              "07-Apr-2015  2588.95   1037.25      409.35   342.60    3675.00\n",
              "08-Apr-2015  2646.00   1036.00      419.50   346.00    3742.00\n",
              "09-Apr-2015  2662.60   1054.90      405.50   346.85    3739.00\n",
              "...              ...       ...         ...      ...        ...\n",
              "27-Mar-2017  2411.00   1411.95      339.65   282.70    2630.00\n",
              "28-Mar-2017  2430.70   1421.10      340.00   280.50    2635.10\n",
              "29-Mar-2017  2443.10   1429.55      345.60   283.00    2632.00\n",
              "30-Mar-2017  2436.70   1460.00      347.70   281.50    2616.95\n",
              "31-Mar-2017  2423.10   1440.00      348.25   280.75    2632.00\n",
              "\n",
              "[495 rows x 5 columns]"
            ]
          },
          "metadata": {
            "tags": []
          },
          "execution_count": 88
        }
      ]
    },
    {
      "cell_type": "code",
      "metadata": {
        "id": "PulZAsO5rMh1"
      },
      "source": [
        "weights= np.array([0.3,0.09,0.3,0.3,0.01])"
      ],
      "execution_count": null,
      "outputs": []
    },
    {
      "cell_type": "code",
      "metadata": {
        "id": "yE-d8mT8rgp7"
      },
      "source": [
        "returnsdata = data.pct_change()"
      ],
      "execution_count": null,
      "outputs": []
    },
    {
      "cell_type": "code",
      "metadata": {
        "id": "7qdtDWdCrhVd",
        "colab": {
          "base_uri": "https://localhost:8080/",
          "height": 446
        },
        "outputId": "97d4d826-f7c4-4d70-ebbc-93b7a2ac7544"
      },
      "source": [
        "returnsdata=returnsda[1:]\n",
        "returnsdata"
      ],
      "execution_count": null,
      "outputs": [
        {
          "output_type": "execute_result",
          "data": {
            "text/html": [
              "<div>\n",
              "<style scoped>\n",
              "    .dataframe tbody tr th:only-of-type {\n",
              "        vertical-align: middle;\n",
              "    }\n",
              "\n",
              "    .dataframe tbody tr th {\n",
              "        vertical-align: top;\n",
              "    }\n",
              "\n",
              "    .dataframe thead th {\n",
              "        text-align: right;\n",
              "    }\n",
              "</style>\n",
              "<table border=\"1\" class=\"dataframe\">\n",
              "  <thead>\n",
              "    <tr style=\"text-align: right;\">\n",
              "      <th></th>\n",
              "      <th>ltptcs</th>\n",
              "      <th>ltphdfc</th>\n",
              "      <th>ltpairtel</th>\n",
              "      <th>ltpitc</th>\n",
              "      <th>ltpreddy</th>\n",
              "    </tr>\n",
              "    <tr>\n",
              "      <th>Date</th>\n",
              "      <th></th>\n",
              "      <th></th>\n",
              "      <th></th>\n",
              "      <th></th>\n",
              "      <th></th>\n",
              "    </tr>\n",
              "  </thead>\n",
              "  <tbody>\n",
              "    <tr>\n",
              "      <th>07-Apr-2015</th>\n",
              "      <td>0.015952</td>\n",
              "      <td>0.006941</td>\n",
              "      <td>0.024143</td>\n",
              "      <td>0.007944</td>\n",
              "      <td>-0.005278</td>\n",
              "    </tr>\n",
              "    <tr>\n",
              "      <th>08-Apr-2015</th>\n",
              "      <td>0.022036</td>\n",
              "      <td>-0.001205</td>\n",
              "      <td>0.024795</td>\n",
              "      <td>0.009924</td>\n",
              "      <td>0.018231</td>\n",
              "    </tr>\n",
              "    <tr>\n",
              "      <th>09-Apr-2015</th>\n",
              "      <td>0.006274</td>\n",
              "      <td>0.018243</td>\n",
              "      <td>-0.033373</td>\n",
              "      <td>0.002457</td>\n",
              "      <td>-0.000802</td>\n",
              "    </tr>\n",
              "    <tr>\n",
              "      <th>10-Apr-2015</th>\n",
              "      <td>-0.004319</td>\n",
              "      <td>-0.012987</td>\n",
              "      <td>0.009988</td>\n",
              "      <td>0.000144</td>\n",
              "      <td>0.011300</td>\n",
              "    </tr>\n",
              "    <tr>\n",
              "      <th>13-Apr-2015</th>\n",
              "      <td>0.001037</td>\n",
              "      <td>-0.002113</td>\n",
              "      <td>0.038823</td>\n",
              "      <td>0.011819</td>\n",
              "      <td>-0.001402</td>\n",
              "    </tr>\n",
              "    <tr>\n",
              "      <th>...</th>\n",
              "      <td>...</td>\n",
              "      <td>...</td>\n",
              "      <td>...</td>\n",
              "      <td>...</td>\n",
              "      <td>...</td>\n",
              "    </tr>\n",
              "    <tr>\n",
              "      <th>27-Mar-2017</th>\n",
              "      <td>-0.007002</td>\n",
              "      <td>-0.008462</td>\n",
              "      <td>0.001770</td>\n",
              "      <td>0.007484</td>\n",
              "      <td>0.001523</td>\n",
              "    </tr>\n",
              "    <tr>\n",
              "      <th>28-Mar-2017</th>\n",
              "      <td>0.008171</td>\n",
              "      <td>0.006480</td>\n",
              "      <td>0.001030</td>\n",
              "      <td>-0.007782</td>\n",
              "      <td>0.001939</td>\n",
              "    </tr>\n",
              "    <tr>\n",
              "      <th>29-Mar-2017</th>\n",
              "      <td>0.005101</td>\n",
              "      <td>0.005946</td>\n",
              "      <td>0.016471</td>\n",
              "      <td>0.008913</td>\n",
              "      <td>-0.001176</td>\n",
              "    </tr>\n",
              "    <tr>\n",
              "      <th>30-Mar-2017</th>\n",
              "      <td>-0.002620</td>\n",
              "      <td>0.021300</td>\n",
              "      <td>0.006076</td>\n",
              "      <td>-0.005300</td>\n",
              "      <td>-0.005718</td>\n",
              "    </tr>\n",
              "    <tr>\n",
              "      <th>31-Mar-2017</th>\n",
              "      <td>-0.005581</td>\n",
              "      <td>-0.013699</td>\n",
              "      <td>0.001582</td>\n",
              "      <td>-0.002664</td>\n",
              "      <td>0.005751</td>\n",
              "    </tr>\n",
              "  </tbody>\n",
              "</table>\n",
              "<p>493 rows × 5 columns</p>\n",
              "</div>"
            ],
            "text/plain": [
              "              ltptcs   ltphdfc   ltpairtel    ltpitc   ltpreddy \n",
              "Date                                                            \n",
              "07-Apr-2015  0.015952  0.006941    0.024143  0.007944  -0.005278\n",
              "08-Apr-2015  0.022036 -0.001205    0.024795  0.009924   0.018231\n",
              "09-Apr-2015  0.006274  0.018243   -0.033373  0.002457  -0.000802\n",
              "10-Apr-2015 -0.004319 -0.012987    0.009988  0.000144   0.011300\n",
              "13-Apr-2015  0.001037 -0.002113    0.038823  0.011819  -0.001402\n",
              "...               ...       ...         ...       ...        ...\n",
              "27-Mar-2017 -0.007002 -0.008462    0.001770  0.007484   0.001523\n",
              "28-Mar-2017  0.008171  0.006480    0.001030 -0.007782   0.001939\n",
              "29-Mar-2017  0.005101  0.005946    0.016471  0.008913  -0.001176\n",
              "30-Mar-2017 -0.002620  0.021300    0.006076 -0.005300  -0.005718\n",
              "31-Mar-2017 -0.005581 -0.013699    0.001582 -0.002664   0.005751\n",
              "\n",
              "[493 rows x 5 columns]"
            ]
          },
          "metadata": {
            "tags": []
          },
          "execution_count": 93
        }
      ]
    },
    {
      "cell_type": "code",
      "metadata": {
        "id": "GT7THzNMrkLW",
        "colab": {
          "base_uri": "https://localhost:8080/",
          "height": 202
        },
        "outputId": "ce791a42-f79b-4e0c-e19e-876b01b9f4f1"
      },
      "source": [
        "covmatrix=returnsdata.cov() * 494\n",
        "covmatrix"
      ],
      "execution_count": null,
      "outputs": [
        {
          "output_type": "execute_result",
          "data": {
            "text/html": [
              "<div>\n",
              "<style scoped>\n",
              "    .dataframe tbody tr th:only-of-type {\n",
              "        vertical-align: middle;\n",
              "    }\n",
              "\n",
              "    .dataframe tbody tr th {\n",
              "        vertical-align: top;\n",
              "    }\n",
              "\n",
              "    .dataframe thead th {\n",
              "        text-align: right;\n",
              "    }\n",
              "</style>\n",
              "<table border=\"1\" class=\"dataframe\">\n",
              "  <thead>\n",
              "    <tr style=\"text-align: right;\">\n",
              "      <th></th>\n",
              "      <th>ltptcs</th>\n",
              "      <th>ltphdfc</th>\n",
              "      <th>ltpairtel</th>\n",
              "      <th>ltpitc</th>\n",
              "      <th>ltpreddy</th>\n",
              "    </tr>\n",
              "  </thead>\n",
              "  <tbody>\n",
              "    <tr>\n",
              "      <th>ltptcs</th>\n",
              "      <td>0.093423</td>\n",
              "      <td>0.016494</td>\n",
              "      <td>0.017585</td>\n",
              "      <td>0.023972</td>\n",
              "      <td>0.012022</td>\n",
              "    </tr>\n",
              "    <tr>\n",
              "      <th>ltphdfc</th>\n",
              "      <td>0.016494</td>\n",
              "      <td>0.050804</td>\n",
              "      <td>0.022033</td>\n",
              "      <td>0.026893</td>\n",
              "      <td>0.023703</td>\n",
              "    </tr>\n",
              "    <tr>\n",
              "      <th>ltpairtel</th>\n",
              "      <td>0.017585</td>\n",
              "      <td>0.022033</td>\n",
              "      <td>0.145297</td>\n",
              "      <td>0.014615</td>\n",
              "      <td>0.013324</td>\n",
              "    </tr>\n",
              "    <tr>\n",
              "      <th>ltpitc</th>\n",
              "      <td>0.023972</td>\n",
              "      <td>0.026893</td>\n",
              "      <td>0.014615</td>\n",
              "      <td>0.222059</td>\n",
              "      <td>0.015024</td>\n",
              "    </tr>\n",
              "    <tr>\n",
              "      <th>ltpreddy</th>\n",
              "      <td>0.012022</td>\n",
              "      <td>0.023703</td>\n",
              "      <td>0.013324</td>\n",
              "      <td>0.015024</td>\n",
              "      <td>0.163777</td>\n",
              "    </tr>\n",
              "  </tbody>\n",
              "</table>\n",
              "</div>"
            ],
            "text/plain": [
              "             ltptcs   ltphdfc   ltpairtel    ltpitc   ltpreddy \n",
              "ltptcs      0.093423  0.016494    0.017585  0.023972   0.012022\n",
              "ltphdfc     0.016494  0.050804    0.022033  0.026893   0.023703\n",
              "ltpairtel   0.017585  0.022033    0.145297  0.014615   0.013324\n",
              "ltpitc      0.023972  0.026893    0.014615  0.222059   0.015024\n",
              "ltpreddy    0.012022  0.023703    0.013324  0.015024   0.163777"
            ]
          },
          "metadata": {
            "tags": []
          },
          "execution_count": 94
        }
      ]
    },
    {
      "cell_type": "code",
      "metadata": {
        "id": "u_Qv2MwPr2U4"
      },
      "source": [
        "returnsmp=returnsdata.mean()"
      ],
      "execution_count": null,
      "outputs": []
    },
    {
      "cell_type": "code",
      "metadata": {
        "id": "GiF-IQ-Er6OJ",
        "colab": {
          "base_uri": "https://localhost:8080/",
          "height": 34
        },
        "outputId": "155de2f9-a1b4-423a-f435-4c8c782fce7a"
      },
      "source": [
        "port_variance = np.dot(weights.T, np.dot(covmatrix, weights))\n",
        "port_variance"
      ],
      "execution_count": null,
      "outputs": [
        {
          "output_type": "execute_result",
          "data": {
            "text/plain": [
              "0.05582637527580176"
            ]
          },
          "metadata": {
            "tags": []
          },
          "execution_count": 96
        }
      ]
    },
    {
      "cell_type": "code",
      "metadata": {
        "id": "C8IvGrxYr-AB",
        "colab": {
          "base_uri": "https://localhost:8080/",
          "height": 34
        },
        "outputId": "04322263-5c60-4fa3-d1af-06a33d2f12b6"
      },
      "source": [
        "port_volatility = np.sqrt(port_variance)\n",
        "port_volatility"
      ],
      "execution_count": null,
      "outputs": [
        {
          "output_type": "execute_result",
          "data": {
            "text/plain": [
              "0.23627605734775955"
            ]
          },
          "metadata": {
            "tags": []
          },
          "execution_count": 97
        }
      ]
    },
    {
      "cell_type": "code",
      "metadata": {
        "id": "A_tNFnnIsBCu",
        "colab": {
          "base_uri": "https://localhost:8080/",
          "height": 34
        },
        "outputId": "c05c5d7b-ac8d-416b-aa92-8cab337ed44c"
      },
      "source": [
        "portfolioSimpleAnnualReturn = np.sum((returnsmp*weights) * 495)\n",
        "portfolioSimpleAnnualReturn"
      ],
      "execution_count": null,
      "outputs": [
        {
          "output_type": "execute_result",
          "data": {
            "text/plain": [
              "-0.01104104295511028"
            ]
          },
          "metadata": {
            "tags": []
          },
          "execution_count": 98
        }
      ]
    },
    {
      "cell_type": "code",
      "metadata": {
        "id": "BRXWR-zEsDdZ",
        "colab": {
          "base_uri": "https://localhost:8080/",
          "height": 69
        },
        "outputId": "cd015086-f5db-49b9-d9de-9a706ddfc103"
      },
      "source": [
        "percent_var = str(round(port_variance, 2) * 100) + '%'\n",
        "percent_vols = str(round(port_volatility, 2) * 100) + '%'\n",
        "percent_ret = str(round(portfolioSimpleAnnualReturn, 2)*100)+'%'\n",
        "print(\"Expected annual  return : \"+ percent_ret)\n",
        "print('Annual volatility/standard deviation/risk : '+percent_vols)\n",
        "print('Annual variance : '+percent_var)"
      ],
      "execution_count": null,
      "outputs": [
        {
          "output_type": "stream",
          "text": [
            "Expected annual  return : -1.0%\n",
            "Annual volatility/standard deviation/risk : 24.0%\n",
            "Annual variance : 6.0%\n"
          ],
          "name": "stdout"
        }
      ]
    },
    {
      "cell_type": "code",
      "metadata": {
        "id": "-77A3ke8sHK0"
      },
      "source": [
        "def portfolio_annualised_performance(weights, returnsmp, covmatrix):\n",
        "    returns = np.sum(returnsmp*weights ) *494\n",
        "    std = np.sqrt(np.dot(weights.T, np.dot(covmatrix, weights))) * np.sqrt(494)\n",
        "    return std, returns\n",
        "  \n"
      ],
      "execution_count": null,
      "outputs": []
    },
    {
      "cell_type": "code",
      "metadata": {
        "id": "fdeXxPBTsKPg"
      },
      "source": [
        "def random_portfolios(num_portfolios, returnsmp, covmatrix, risk_free_rate):\n",
        "    results = np.zeros((4,num_portfolios))\n",
        "    weights_record = []\n",
        "    for i in range(num_portfolios):\n",
        "        weights = np.random.random(5)\n",
        "        weights /= np.sum(weights)\n",
        "        weights_record.append(weights)\n",
        "        portfolio_std_dev, portfolio_return = portfolio_annualised_performance(weights, returnsmp, covmatrix)\n",
        "        results[0,i] = portfolio_std_dev\n",
        "        results[1,i] = portfolio_return\n",
        "        results[2,i] = (portfolio_return - risk_free_rate) / portfolio_std_dev\n",
        "    return results, weights_record"
      ],
      "execution_count": null,
      "outputs": []
    },
    {
      "cell_type": "code",
      "metadata": {
        "id": "2zqPhVK3sMgG"
      },
      "source": [
        "\n",
        "num_portfolios = 25000\n",
        "risk_free_rate = 0.04"
      ],
      "execution_count": null,
      "outputs": []
    },
    {
      "cell_type": "code",
      "metadata": {
        "id": "mhIpllYfsO2T"
      },
      "source": [
        "def display_simulated_ef_with_random(returnsmp, covmatrix, num_portfolios, risk_free_rate):\n",
        "    results, weights = random_portfolios(num_portfolios,returnsmp, covmatrix, risk_free_rate)\n",
        "    \n",
        "    max_sharpe_idx = np.argmax(results[2])\n",
        "    sdp, rp = results[0,max_sharpe_idx], results[1,max_sharpe_idx]\n",
        "    max_sharpe_allocation = pd.DataFrame(weights[max_sharpe_idx],index=data.columns,columns=['allocation'])\n",
        "    max_sharpe_allocation.allocation = [round(i*100,2)for i in max_sharpe_allocation.allocation]\n",
        "    max_sharpe_allocation = max_sharpe_allocation.T\n",
        "    \n",
        "    min_vol_idx = np.argmin(results[0])\n",
        "    sdp_min, rp_min = results[0,min_vol_idx], results[1,min_vol_idx]\n",
        "    min_vol_allocation = pd.DataFrame(weights[min_vol_idx],index=data.columns,columns=['allocation'])\n",
        "    min_vol_allocation.allocation = [round(i*100,2)for i in min_vol_allocation.allocation]\n",
        "    min_vol_allocation = min_vol_allocation.T\n",
        "    \n",
        "    print (\"-\"*80)\n",
        "    print (\"Maximum Sharpe Ratio Portfolio Allocation\\n\")\n",
        "    print (\"Annualised Return:\", round(rp,2))\n",
        "    print (\"Annualised Volatility:\", round(sdp,2))\n",
        "    print (\"\\n\")\n",
        "    print (max_sharpe_allocation)\n",
        "    print (\"-\"*80)\n",
        "    print (\"Minimum Volatility Portfolio Allocation\\n\")\n",
        "    print (\"Annualised Return:\", round(rp_min,2))\n",
        "    print (\"Annualised Volatility:\", round(sdp_min,2))\n",
        "    print (\"\\n\")\n",
        "    print (min_vol_allocation)\n",
        "    \n",
        "    plt.figure(figsize=(10, 7))\n",
        "    plt.scatter(results[0,:],results[1,:],c=results[2,:],cmap='YlGnBu', marker='o', s=10, alpha=0.3)\n",
        "    plt.colorbar()\n",
        "    plt.scatter(sdp,rp,marker='*',color='r',s=500, label='Maximum Sharpe ratio')\n",
        "    plt.scatter(sdp_min,rp_min,marker='*',color='g',s=500, label='Minimum volatility')\n",
        "    plt.title('Simulated Portfolio Optimization based on Efficient Frontier')\n",
        "    plt.xlabel('annualised volatility')\n",
        "    plt.ylabel('annualised returns')\n",
        "    plt.legend(labelspacing=0.8)"
      ],
      "execution_count": null,
      "outputs": []
    },
    {
      "cell_type": "code",
      "metadata": {
        "id": "1XRmLB3osRS8",
        "colab": {
          "base_uri": "https://localhost:8080/",
          "height": 770
        },
        "outputId": "8a6fb2e8-390f-4e4d-b475-eb72c5f50ab4"
      },
      "source": [
        "display_simulated_ef_with_random(returnsmp, covmatrix, num_portfolios, risk_free_rate)"
      ],
      "execution_count": null,
      "outputs": [
        {
          "output_type": "stream",
          "text": [
            "--------------------------------------------------------------------------------\n",
            "Maximum Sharpe Ratio Portfolio Allocation\n",
            "\n",
            "Annualised Return: 0.28\n",
            "Annualised Volatility: 4.63\n",
            "\n",
            "\n",
            "            ltptcs   ltphdfc   ltpairtel   ltpitc   ltpreddy \n",
            "allocation     2.18      83.1        4.28     5.69       4.75\n",
            "--------------------------------------------------------------------------------\n",
            "Minimum Volatility Portfolio Allocation\n",
            "\n",
            "Annualised Return: 0.14\n",
            "Annualised Volatility: 4.16\n",
            "\n",
            "\n",
            "            ltptcs   ltphdfc   ltpairtel   ltpitc   ltpreddy \n",
            "allocation    27.65     47.66       11.28     3.91        9.5\n"
          ],
          "name": "stdout"
        },
        {
          "output_type": "display_data",
          "data": {
            "image/png": "[encoded data removed]",
            "text/plain": [
              "<Figure size 720x504 with 2 Axes>"
            ]
          },
          "metadata": {
            "tags": [],
            "needs_background": "light"
          }
        }
      ]
    },
    {
      "cell_type": "markdown",
      "metadata": {
        "id": "4yFzGqiQsfi2"
      },
      "source": [
        "# Q4. Which optimization techniques are used by Mutual Funds currently?\n",
        "*Modern Portfolio Theory*"
      ]
    },
    {
      "cell_type": "markdown",
      "metadata": {
        "id": "-poGo4iSssyx"
      },
      "source": [
        "# Q5. Which parameters are you using to check the accuracy of your model?\n",
        "\n",
        "*Sharpe Ratio*"
      ]
    },
    {
      "cell_type": "code",
      "metadata": {
        "id": "lCun9nJrsUH-"
      },
      "source": [
        ""
      ],
      "execution_count": null,
      "outputs": []
    }
  ]
}